{
 "cells": [
  {
   "cell_type": "markdown",
   "metadata": {},
   "source": [
    "## Continuing the Board Game Example\n",
    "\n",
    "Two lectures ago, we designed a data definition for a board game. Now, we want to **find all the board games in my collection that are playable by a group with _p_ players**.\n",
    "\n",
    "How do we build on the previous design?"
   ]
  },
  {
   "cell_type": "code",
   "execution_count": 5,
   "metadata": {},
   "outputs": [],
   "source": [
    "# Old BoardGame data definition\n",
    "\n",
    "from typing import NamedTuple\n",
    "from cs103 import *\n",
    "\n",
    "BoardGame = NamedTuple('BoardGame', \n",
    "                       [('name', str),\n",
    "                        ('designer', str),\n",
    "                        ('min_num_players', int), # in range[1,...]\n",
    "                        ('max_num_players', int), # in range[min_num_players,...]\n",
    "                        ('min_age', int)])        # in range[0,...]\n",
    "# interp. a board game with its name, the designer's name\n",
    "#         the number of players represented as a range from\n",
    "#         minimum to maximum of \n",
    "#         [min_num_players,max_num_players], and the minimum\n",
    "#         recommended minimum age in years min_age\n",
    "BG_GLOOMHAVEN = BoardGame('Gloomhaven',\n",
    "                          'Childres',\n",
    "                          1, 4, 12)\n",
    "BG_BBMM = BoardGame('Bunny Bunny Moose Moose',\n",
    "                    'Chvatil',\n",
    "                    3, 10, 5)\n",
    "\n",
    "@typecheck\n",
    "def fn_for_board_game(bg: BoardGame) -> ...:\n",
    "    # template based on Compound (5 fields)\n",
    "    return ...(bg.name,           # str\n",
    "               bg.designer,        # str\n",
    "               bg.min_num_players, # int in range[1,...]\n",
    "               bg.max_num_players, # int in range [min_np, ...]\n",
    "               bg.min_age)         # int in range[0, ...]\n"
   ]
  },
  {
   "cell_type": "code",
   "execution_count": 6,
   "metadata": {},
   "outputs": [],
   "source": [
    "from typing import List\n",
    "\n",
    "# List[BoardGame]\n",
    "# interp. a list of board games\n",
    "LOBG1 = []\n",
    "LOBG2 = [BG_GLOOMHAVEN, BG_BBMM,\n",
    "         BoardGame('San Juan',\n",
    "                    'Someone',\n",
    "                    2, 4, 10)]\n",
    "\n",
    "# template based on arbitrary-sized with reference rule\n",
    "@typecheck\n",
    "def fn_for_lobg(lobg: List[BoardGame]) -> ...:\n",
    "    # acc description\n",
    "    acc = ...   # type: ...\n",
    "    \n",
    "    for bg in lobg:\n",
    "        acc = ...(fn_for_board_game(bg), acc)\n",
    "    \n",
    "    return ...(acc)"
   ]
  },
  {
   "cell_type": "code",
   "execution_count": 12,
   "metadata": {},
   "outputs": [
    {
     "name": "stdout",
     "output_type": "stream",
     "text": [
      "\u001b[92m3 of 3 tests passed\u001b[0m\n",
      "\u001b[92m4 of 4 tests passed\u001b[0m\n"
     ]
    }
   ],
   "source": [
    "# Now, how do we proceed to design a function that finds all the\n",
    "# games in my collection appropriate for p players?\n",
    "\n",
    "# BG_GLOOMHAVEN = BoardGame('Gloomhaven',\n",
    "#                           'Childres',\n",
    "#                           1, 4, 12)\n",
    "# BG_BBMM = BoardGame('Bunny Bunny Moose Moose',\n",
    "#                     'Chvatil',\n",
    "#                     3, 10, 5)\n",
    "# LOBG2 = [BG_GLOOMHAVEN, BG_BBMM,\n",
    "#          BoardGame('San Juan',\n",
    "#                     'Someone',\n",
    "#                     2, 4, 10)]\n",
    "\n",
    "@typecheck\n",
    "def is_p_player_game(bg: BoardGame, p: int) -> bool:\n",
    "    \"\"\"\n",
    "    checks if bg is appropriate for p players (1 or more);\n",
    "    returns True if so and False otherwise\n",
    "    \"\"\"\n",
    "    #return True #stub\n",
    "    # template copy from BoardGame with additional parameter (p)\n",
    "    return bg.min_num_players <= p and p <= bg.max_num_players\n",
    "\n",
    "start_testing()\n",
    "expect(is_p_player_game(BG_GLOOMHAVEN, 1), True)\n",
    "expect(is_p_player_game(BG_GLOOMHAVEN, 7), False)\n",
    "expect(is_p_player_game(BG_BBMM, 7), True)\n",
    "summary()\n",
    "\n",
    "@typecheck\n",
    "def find_all_games_for_p(collection: List[BoardGame],\n",
    "                         p: int) -> List[BoardGame]:\n",
    "    \"\"\"\n",
    "    return all the games in the collection that are appropriate\n",
    "    for p players (1 or more)\n",
    "    \"\"\"\n",
    "    #return []  #stub\n",
    "    # template copied from List[BoardGame] with additional parameter (p)\n",
    "    \n",
    "    # all the games in the collection seen so far that are \n",
    "    # appropriate for p players\n",
    "    p_player_games = []   # type: List[BoardGame]\n",
    "    \n",
    "    for bg in collection:\n",
    "        if is_p_player_game(bg, p):\n",
    "            p_player_games = p_player_games + [bg]\n",
    "            #p_player_games.append(bg)\n",
    "            \n",
    "    return p_player_games\n",
    "\n",
    "start_testing()\n",
    "expect(find_all_games_for_p([], 3), [])\n",
    "expect(find_all_games_for_p(LOBG2, 3), LOBG2)\n",
    "expect(find_all_games_for_p(LOBG2, 8), [BG_BBMM])\n",
    "expect(find_all_games_for_p(LOBG2, 30), [])\n",
    "summary()"
   ]
  },
  {
   "cell_type": "markdown",
   "metadata": {},
   "source": [
    "### Games' Names\n",
    "\n",
    "Now, **design a function that returns the names of all the games in a collection**."
   ]
  },
  {
   "cell_type": "code",
   "execution_count": null,
   "metadata": {},
   "outputs": [],
   "source": [
    "@typecheck\n",
    "def get_game_names(game_collection: List[BoardGame]) -> List[str]:\n",
    "    \"\"\"\n",
    "    returns a list of the names of the games in game_collection\n",
    "    \"\"\"\n",
    "    return []  #stub\n",
    "\n",
    "start_testing()\n",
    "\n",
    "expect(get_game_names([]), [])\n",
    "expect(get_game_names(LOBG1), ['Gloomhaven', 'Bunny Bunny Moose Moose'])\n",
    "summary()"
   ]
  },
  {
   "cell_type": "markdown",
   "metadata": {},
   "source": [
    "## Reference Rule Outside of Lists\n",
    "\n",
    "Lists can refer to other types defined in a data definition, but so can several other types of data. Specifically, Optionals and Compounds can refer to other data definitions. In those cases, you follow the same reference rule as with lists.\n",
    "\n",
    "Here's an example problem to practice that:\n",
    "\n",
    "**Determine if a person with a particular height in feet and inches (with no fractions) should be allowed on a ride that may have a minimum height (in feet and inches with no fractions). Not all rides have a minimum height. If there is no minimum height, then anyone is allowed to ride.**"
   ]
  },
  {
   "cell_type": "code",
   "execution_count": null,
   "metadata": {},
   "outputs": [],
   "source": [
    "# Data definitions\n",
    "\n",
    "Height = NamedTuple('Height', [('feet', int),     # in range [0, ...)\n",
    "                               ('inches', int)])  # in range [0, 12)\n",
    "# interp. a person's height in feet and inches. There are 12 inches in a foot;\n",
    "#         so, inches can only be 0 through 11.\n",
    "H_5_10 = Height(5, 10)\n",
    "H_5_3 = Height(5, 3)\n",
    "H_4_8 = Height(4, 8)\n",
    "\n",
    "@typecheck\n",
    "# template based on compound (2 fields)\n",
    "def fn_for_height(h: Height) -> ...:\n",
    "    return ...(h.feet,\n",
    "               h.inches)\n",
    "\n"
   ]
  },
  {
   "cell_type": "code",
   "execution_count": null,
   "metadata": {},
   "outputs": [],
   "source": [
    "# Function\n",
    "\n",
    "@typecheck\n",
    "def can_ride(rider: Height, minimum: ...) -> bool:\n",
    "    \"\"\"\n",
    "    determine whether rider is tall enough to go on a ride with the given minimum\n",
    "    restriction on height (return True if yes and False if no)\n",
    "    \"\"\"\n",
    "    return True  #stub\n",
    "\n",
    "start_testing()\n",
    "expect(can_ride(Height(5, 10), ...), ...)\n",
    "summary()"
   ]
  }
 ],
 "metadata": {
  "kernelspec": {
   "display_name": "Python 3",
   "language": "python",
   "name": "python3"
  },
  "language_info": {
   "codemirror_mode": {
    "name": "ipython",
    "version": 3
   },
   "file_extension": ".py",
   "mimetype": "text/x-python",
   "name": "python",
   "nbconvert_exporter": "python",
   "pygments_lexer": "ipython3",
   "version": "3.7.3"
  }
 },
 "nbformat": 4,
 "nbformat_minor": 2
}
