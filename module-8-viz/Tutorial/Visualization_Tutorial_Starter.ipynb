{
 "cells": [
  {
   "cell_type": "markdown",
   "metadata": {},
   "source": [
    "# Visualization Tutorial Starter\n",
    "\n",
    "## Pre-Tutorial Work: \n",
    "\n",
    "None"
   ]
  },
  {
   "cell_type": "markdown",
   "metadata": {},
   "source": [
    "## Problem: \n",
    "\n",
    "\n",
    "Imagine you are studying the population cycles of predator and prey. One example of predator-prey interaction is between the lynx and snowshoe hare populations in Canada. To visualize this relationship, you need to plot the populations of these two species on the same graph using the following data (note that population numbers are given in thousands).\n",
    "\n",
    "**Design a function that takes a list of population data and graphs both the lynx and snowshoe hare populations (on the y axis) against the year.** Be sure to give your graph a title, a legend, axes labels, and contrasting colours for the two plotted lines. Remember to follow the helper rules. Often you will find it *very* useful to design helper functions to extract the x values and y values for your graph. (In this case, there are two sets of y values and so perhaps two helper functions for those.)\n",
    "\n",
    "Remember also that each function you design should be tested, and any function that produces a graph will need more than just an `expect`. It will also need either a very clear description of what we should see in the graph or (better yet) a sketch showing what we should see so that we can check that the function produces what was expected when run.\n",
    "\n",
    "Finish by calling your function on L1 (but note that L1 is too large to be a good test set for your function). \n",
    "\n",
    "Data source: \n",
    "http://www-rohan.sdsu.edu/~jmahaffy/courses/f09/math636/lectures/lotka/qualde2.html#predatorprey"
   ]
  },
  {
   "cell_type": "code",
   "execution_count": 1,
   "metadata": {},
   "outputs": [],
   "source": [
    "from typing import NamedTuple, List\n",
    "\n",
    "PopulationData = NamedTuple('PopulationData', [('year', int),    # in range[0, ...)   \n",
    "                                         ('hare', float),        # in range[0.0, ...) \n",
    "                                         ('lynx', float)])       # in range[0.0, ...)    \n",
    "# interp. lynx and hare population data (in thousands) for a given year\n",
    "\n",
    "PD1900 = PopulationData(1900, 30, 4)\n",
    "PD1901 = PopulationData(1901, 47.2, 6.1)\n",
    "PD1902 = PopulationData(1902, 70.2, 9.8)\n",
    "PD1903 = PopulationData(1903, 77.4, 35.2)\n",
    "PD1904 = PopulationData(1904, 36.3, 69.4)\n",
    "PD1905 = PopulationData(1905, 20.6, 41.7)\n",
    "PD1906 = PopulationData(1906, 18.1, 19)\n",
    "PD1907 = PopulationData(1907, 21.4, 13)\n",
    "PD1908 = PopulationData(1908, 22, 8.3)\n",
    "PD1909 = PopulationData(1909, 25.4, 9.1)\n",
    "PD1910 = PopulationData(1910, 27.1, 7.4)\n",
    "PD1911 = PopulationData(1911, 40.3, 8)\n",
    "PD1912 = PopulationData(1912, 57, 12.3)\n",
    "PD1913 = PopulationData(1913, 76.6, 19.5)\n",
    "PD1914 = PopulationData(1914, 52.3, 45.7)\n",
    "PD1915 = PopulationData(1915, 19.5, 51.1)\n",
    "PD1916 = PopulationData(1916, 11.2, 29.7)\n",
    "PD1917 = PopulationData(1917, 7.6, 15.8)\n",
    "PD1918 = PopulationData(1918, 14.6, 9.7)\n",
    "PD1919 = PopulationData(1919, 16.2, 24.7)\n",
    "PD1920 = PopulationData(1920, 10.1, 8.6)\n",
    "\n",
    "# template based on compound\n",
    "def fn_for_population_data(pd: PopulationData) -> ...:\n",
    "    return ...(pd.year,\n",
    "               pd.hare,\n",
    "               pd.lynx)\n",
    "\n",
    "\n",
    "# List[PopulationData]\n",
    "# interp. a list of population data\n",
    "\n",
    "L0 = []\n",
    "L1 = [PD1900, PD1901, PD1902, PD1903, PD1904, PD1905, PD1906, PD1907, PD1908, PD1909, PD1910, \n",
    "     PD1911, PD1912, PD1913, PD1914, PD1915, PD1916, PD1917, PD1918, PD1919, PD1920]\n",
    "\n",
    "# template based on arbitrary-sized and the reference rule\n",
    "def fn_for_lopd(logg: List[PopulationData]) -> ...:\n",
    "    # description of the acc\n",
    "    acc = ... # type: ...\n",
    "    for pd in lopd:\n",
    "        acc = ...(acc, fn_for_population_data(pd))\n",
    "    return ...(acc)\n"
   ]
  },
  {
   "cell_type": "code",
   "execution_count": 2,
   "metadata": {},
   "outputs": [],
   "source": [
    "from matplotlib import pyplot\n",
    "from cs103 import *\n",
    "from typing import List\n",
    "\n",
    "# your solution goes here"
   ]
  }
 ],
 "metadata": {
  "kernelspec": {
   "display_name": "Python 3",
   "language": "python",
   "name": "python3"
  },
  "language_info": {
   "codemirror_mode": {
    "name": "ipython",
    "version": 3
   },
   "file_extension": ".py",
   "mimetype": "text/x-python",
   "name": "python",
   "nbconvert_exporter": "python",
   "pygments_lexer": "ipython3",
   "version": "3.7.3"
  }
 },
 "nbformat": 4,
 "nbformat_minor": 2
}
