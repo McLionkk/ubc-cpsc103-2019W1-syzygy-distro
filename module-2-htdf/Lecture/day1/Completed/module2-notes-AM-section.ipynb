{
 "cells": [
  {
   "cell_type": "code",
   "execution_count": 1,
   "metadata": {},
   "outputs": [],
   "source": [
    "from cs103 import *"
   ]
  },
  {
   "cell_type": "markdown",
   "metadata": {},
   "source": [
    "# Module 2, Day 1 Notes\n",
    "\n",
    "Here is a summary of our How to Design Functions Recipe:\n",
    "\n",
    "1. Write the stub, including signature, purpose, and typecheck annotation.\n",
    "2. Write examples/tests\n",
    "3. Write or copy the template\n",
    "4. Code the function body\n",
    "5. Test and debug until correct"
   ]
  },
  {
   "cell_type": "markdown",
   "metadata": {},
   "source": [
    "## `is_tall` Quiz Problem\n",
    "\n",
    "Let's revisit the steps of: **Design a function that takes an Image and determines whether it is tall or not.**"
   ]
  },
  {
   "cell_type": "code",
   "execution_count": 2,
   "metadata": {},
   "outputs": [
    {
     "name": "stdout",
     "output_type": "stream",
     "text": [
      "\u001b[92m4 of 4 tests passed\u001b[0m\n"
     ]
    }
   ],
   "source": [
    "# Design is_tall here\n",
    "\n",
    "@typecheck\n",
    "def is_tall(img: Image) -> bool:\n",
    "    \"\"\"\n",
    "    returns True if img is tall, meaning the height is at\n",
    "    least twice as large as the width; returns False otherwise\n",
    "    \"\"\"\n",
    "    #return False  #stub\n",
    "    #return ...(img)  #template  # Graders: this is for you!\n",
    "    return image_height(img) >= image_width(img)*2\n",
    "\n",
    "start_testing()\n",
    "expect(is_tall(rectangle(80, 50, \"solid\", \"red\")), 50 >= 80*2)\n",
    "expect(is_tall(triangle(40, 1000, \"outline\", \"green\")), 1000 >= 40*2)\n",
    "expect(is_tall(circle(50, \"solid\", \"blue\")), False)\n",
    "expect(is_tall(rectangle(50, 100, \"solid\", \"blue\")), True)\n",
    "summary()\n"
   ]
  },
  {
   "cell_type": "code",
   "execution_count": 3,
   "metadata": {},
   "outputs": [],
   "source": [
    "# There's no such thing as image_color or image_colour. (From an in-class question.)\n",
    "#help(image_colour)"
   ]
  },
  {
   "cell_type": "markdown",
   "metadata": {},
   "source": [
    "## The Worksheet \"multiply a number by 4\" Problem\n",
    "\n",
    "We'll work through these to get more practice with the recipe and to explain what we mean by the wording of these problems on the worksheet!\n",
    "\n",
    "The overarching problem is: **Design a function that multiplies a number by 4.**"
   ]
  },
  {
   "cell_type": "markdown",
   "metadata": {},
   "source": [
    "### \"circle the best signature and why you chose it\"\n",
    "1. `float -> 4*float`\n",
    "1. `number -> number`\n",
    "1. `float, float -> float`\n",
    "1. `def times4(number: float) -> float:`\n",
    "\n",
    "\"Why is that the best signature?\""
   ]
  },
  {
   "cell_type": "markdown",
   "metadata": {},
   "source": [
    "### \"what is the second-best response or explain why there is none? Is that second-best response good enough to be an acceptable design?\"\n",
    "\n",
    "`int -> int`"
   ]
  },
  {
   "cell_type": "markdown",
   "metadata": {},
   "source": [
    "### \"write a clear and succinct purpose\"\n",
    "\n",
    "return the given number multiplied by 4"
   ]
  },
  {
   "cell_type": "markdown",
   "metadata": {},
   "source": [
    "### \"match [the function] with an appropriate stub body\"\n",
    "\n",
    "We're working on \n",
    "```python\n",
    "def times_four(x: float) -> float:\n",
    "    return x  #stub\n",
    "```\n",
    "\n",
    "Here are the options:\n",
    "+ `return False`\n",
    "+ `return radius`\n",
    "+ `return x`\n",
    "+ `return colour`\n",
    "+ `return square(1, 'solid', 'white')`"
   ]
  },
  {
   "cell_type": "code",
   "execution_count": 4,
   "metadata": {},
   "outputs": [
    {
     "name": "stdout",
     "output_type": "stream",
     "text": [
      "\u001b[91mTest failed:\u001b[0m expected <cs103.image.image.Circle object at 0x7fcb3c144b70> but got <cs103.image.image.Square object at 0x7fcb3c144ba8>\n",
      "     \u001b[1mLine 6: \u001b[0mexpect(make_circle(10, \"chartreuse\"), circle(10, \"solid\", \"chartreuse\"))\n",
      "\u001b[91m0 of 1 tests passed\u001b[0m\n",
      "\u001b[91mTest failed:\u001b[0m expected catcat but got cat\n",
      "    \u001b[1mLine 15: \u001b[0mexpect(double('cat'), 'catcat')\n",
      "\u001b[91m0 of 1 tests passed\u001b[0m\n"
     ]
    },
    {
     "data": {
      "image/png": "[encoded data removed]",
      "text/plain": [
       "<Figure size 15x15 with 1 Axes>"
      ]
     },
     "metadata": {
      "needs_background": "light"
     },
     "output_type": "display_data"
    },
    {
     "data": {
      "image/png": "[encoded data removed]",
      "text/plain": [
       "<Figure size 1.875x1.125 with 1 Axes>"
      ]
     },
     "metadata": {
      "needs_background": "light"
     },
     "output_type": "display_data"
    }
   ],
   "source": [
    "# We played around with different stubs for double.\n",
    "\n",
    "@typecheck\n",
    "def make_circle(radius: int, color: str) -> Image:\n",
    "    return square(1, \"solid\", \"white\")  #stub\n",
    "\n",
    "start_testing()\n",
    "expect(make_circle(10, \"chartreuse\"), circle(10, \"solid\", \"chartreuse\"))\n",
    "summary()\n",
    "\n",
    "@typecheck\n",
    "def double(x: str) -> str:\n",
    "    return x #stub\n",
    "\n",
    "\n",
    "start_testing()\n",
    "expect(double('cat'), 'catcat')\n",
    "summary()"
   ]
  },
  {
   "cell_type": "markdown",
   "metadata": {},
   "source": [
    "## CPSC 103 d-tective 😜\n",
    "\n",
    "**Problem:** Design a function that determines if a string starts with\n",
    "the letter *d*."
   ]
  },
  {
   "cell_type": "code",
   "execution_count": 5,
   "metadata": {},
   "outputs": [
    {
     "name": "stdout",
     "output_type": "stream",
     "text": [
      "\u001b[92m4 of 4 tests passed\u001b[0m\n"
     ]
    }
   ],
   "source": [
    "# Steve: might change word to something more generic like s, since we can\n",
    "# handle non-words.\n",
    "@typecheck\n",
    "def starts_d(word:str) ->bool:\n",
    "    \"\"\"\n",
    "    Takes a word and determines if it starts with d or D returns true if so,\n",
    "    false otherwise\n",
    "    \"\"\"\n",
    "    #return False #stub\n",
    "    #return ...(word) #template\n",
    "    if len(word) == 0:\n",
    "        return False\n",
    "    elif word[0] == \"d\":\n",
    "        return True\n",
    "    elif word[0] == \"D\":\n",
    "        return True\n",
    "    else:\n",
    "        return False\n",
    "    \n",
    "start_testing()\n",
    "expect (starts_d(\"apple\"), False)\n",
    "expect (starts_d(\"Dino\"), True)\n",
    "expect (starts_d(\"dino\"), True)\n",
    "expect (starts_d(\"\"), False)\n",
    "summary()\n"
   ]
  },
  {
   "cell_type": "code",
   "execution_count": 6,
   "metadata": {},
   "outputs": [],
   "source": [
    "# FOR AN ALTERNATE VERSION: See the \"completed\" version of this notebook.\n",
    "# Click your browser and delete everything after the final forward slash \"/\"\n",
    "# and then open the module2-notes-completed.ipynb file."
   ]
  },
  {
   "cell_type": "code",
   "execution_count": 7,
   "metadata": {},
   "outputs": [
    {
     "data": {
      "text/plain": [
       "'w'"
      ]
     },
     "execution_count": 7,
     "metadata": {},
     "output_type": "execute_result"
    }
   ],
   "source": [
    "# We wanted to test out why \"word\"[0] was failing with a shorter piece of code:\n",
    "word = \"dino\"\n",
    "\"word\"[0]"
   ]
  }
 ],
 "metadata": {
  "kernelspec": {
   "display_name": "Python 3",
   "language": "python",
   "name": "python3"
  },
  "language_info": {
   "codemirror_mode": {
    "name": "ipython",
    "version": 3
   },
   "file_extension": ".py",
   "mimetype": "text/x-python",
   "name": "python",
   "nbconvert_exporter": "python",
   "pygments_lexer": "ipython3",
   "version": "3.7.3"
  }
 },
 "nbformat": 4,
 "nbformat_minor": 2
}
