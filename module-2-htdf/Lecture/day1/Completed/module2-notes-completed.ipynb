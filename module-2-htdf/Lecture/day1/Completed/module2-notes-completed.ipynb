{
 "cells": [
  {
   "cell_type": "code",
   "execution_count": 1,
   "metadata": {},
   "outputs": [],
   "source": [
    "from cs103 import *"
   ]
  },
  {
   "cell_type": "markdown",
   "metadata": {},
   "source": [
    "# Module 2, Day 1 Notes\n",
    "\n",
    "Here is a summary of our How to Design Functions Recipe:\n",
    "\n",
    "1. Write the stub, including signature, purpose, and typecheck annotation.\n",
    "2. Write examples/tests\n",
    "3. Write or copy the template\n",
    "4. Code the function body\n",
    "5. Test and debug until correct"
   ]
  },
  {
   "cell_type": "markdown",
   "metadata": {},
   "source": [
    "## `is_tall` Quiz Problem\n",
    "\n",
    "Let's revisit the steps of: **Design a function that takes an Image and determines whether it is tall or not.**"
   ]
  },
  {
   "cell_type": "markdown",
   "metadata": {},
   "source": [
    "Written as markdown, since Python will produce an error if I try to run a def line with no body.\n",
    "\n",
    "(What error? `unexpected EOF while parsing`. Yuck. What does **that** mean? An \"EOF\" is an \"end of file\", or in this case, the end of a cell. \"Parsing\" is \"reading the code you wrote to try to make sense of it\". So, Python is saying \"I expected something more before I could make sense of the code you wrote.\" In this case, that something more was the body of the function!)\n",
    "\n",
    "```python\n",
    "# First, we figure out the signature. \n",
    "\n",
    "@typecheck\n",
    "def is_tall(i: Image) -> bool:  # Why bool?\n",
    "```\n",
    "\n",
    "We chose `bool` as the return type because it is the standard Python way to represent a yes-or-no answer."
   ]
  },
  {
   "cell_type": "code",
   "execution_count": 2,
   "metadata": {},
   "outputs": [],
   "source": [
    "# Next, the purpose. We should describe any important details, including\n",
    "# any design decisions we had to make! So, for example, if you decided\n",
    "# that a function is tall if it's more than 100 units in height, then\n",
    "# \"return True if i is tall\" is STILL a bad purpose, but \"return True\n",
    "# if i is taller than 100 units in height\" is OK.\n",
    "\n",
    "@typecheck\n",
    "def is_tall(i: Image) -> bool:\n",
    "    \"\"\"\n",
    "    return True if i is taller than it is wide and False otherwise\n",
    "    \"\"\""
   ]
  },
  {
   "cell_type": "code",
   "execution_count": 3,
   "metadata": {},
   "outputs": [],
   "source": [
    "# Finally, the body of the stub, and I'm done with step one of the recipe.\n",
    "# The stub should always return a value that matches the return type in\n",
    "# the signature. Which value? It DOES NOT MATTER. So, choose the easiest\n",
    "# one you can think of to write :)\n",
    "\n",
    "# Notice that the stub is NOT commented out. Later, we'll comment it out,\n",
    "# but not now!\n",
    "\n",
    "@typecheck\n",
    "def is_tall(i: Image) -> bool:\n",
    "    \"\"\"\n",
    "    return True if i is taller than it is wide and False otherwise\n",
    "    \"\"\"\n",
    "    return True  #stub"
   ]
  },
  {
   "cell_type": "code",
   "execution_count": 4,
   "metadata": {},
   "outputs": [
    {
     "name": "stdout",
     "output_type": "stream",
     "text": [
      "\u001b[91mTest failed:\u001b[0m expected False but got True\n",
      "    \u001b[1mLine 26: \u001b[0mexpect(is_tall(rectangle(100, 10, \"solid\", \"red\")), False)     # short\n",
      "\u001b[91mTest failed:\u001b[0m expected False but got True\n",
      "    \u001b[1mLine 28: \u001b[0mexpect(is_tall(triangle(30, 30, \"outline\", \"purple\")), False)  # \"tied\"\n",
      "\u001b[91m1 of 3 tests passed\u001b[0m\n"
     ]
    }
   ],
   "source": [
    "# What goes next is NOT the template. We don't design functions\n",
    "# in the same order they eventually appear in the page, just like\n",
    "# you don't write a paper from the first word to the last or build\n",
    "# a building from the piece of material that goes lowest to the one\n",
    "# that goes highest.\n",
    "\n",
    "# Instead, we write our tests next so we can practice with what\n",
    "# it looks like to call the function, write out explicitly what we\n",
    "# expect that to produce, and get some practice with what the body\n",
    "# of the function might look like as well.\n",
    "\n",
    "@typecheck\n",
    "def is_tall(i: Image) -> bool:\n",
    "    \"\"\"\n",
    "    return True if i is taller than it is wide and False otherwise\n",
    "    \"\"\"\n",
    "    return True  #stub\n",
    "\n",
    "\n",
    "# How many tests should we have?\n",
    "# 1) Write a test by calling the function the first reasonable way you imagine.\n",
    "# 2) Write at least one more test to show how the function's behaviour changes\n",
    "#    if you chance the inputs (argument values).\n",
    "# 3) Think through if there are any special cases to illustrate.\n",
    "start_testing()\n",
    "expect(is_tall(rectangle(100, 10, \"solid\", \"red\")), False)     # short\n",
    "expect(is_tall(triangle(30, 50, \"outline\", \"purple\")), True)   # tall\n",
    "expect(is_tall(triangle(30, 30, \"outline\", \"purple\")), False)  # \"tied\"\n",
    "summary()"
   ]
  },
  {
   "cell_type": "markdown",
   "metadata": {},
   "source": [
    "Written as markdown, since running this will produce an error. (It produces `'ellipsis' object is not callable`. An ellipsis is a \"...\". So, it's saying \"you wrote `...(i)` as if you wanted to call `...` like a function, but you cannot call `...` because it is not a function\". That's correct. The template isn't designed to be runnable!)\n",
    "\n",
    "```python\n",
    "# At this point if you were not in CPSC 103, you would DELETE the stub body,\n",
    "# write out the template, and then edit the template to get your implementation.\n",
    "# For GRADING PURPOSES ONLY, you instead comment out the stub body and make two\n",
    "# copies of the template: one for us and one for you to edit.\n",
    "@typecheck\n",
    "def is_tall(i: Image) -> bool:\n",
    "    \"\"\"\n",
    "    return True if i is taller than it is wide and False otherwise\n",
    "    \"\"\"\n",
    "    #return True  #stub\n",
    "    #return ...(i)  #template; a copy just for your friendly grader\n",
    "    return ...(i) #template, ready to be edited into an implementation\n",
    "\n",
    "\n",
    "# How many tests should we have?\n",
    "# 1) Write a test by calling the function the first reasonable way you imagine.\n",
    "# 2) Write at least one more test to show how the function's behaviour changes\n",
    "#    if you chance the inputs (argument values).\n",
    "# 3) Think through if there are any special cases to illustrate.\n",
    "start_testing()\n",
    "expect(is_tall(rectangle(100, 10, \"solid\", \"red\")), False)     # short\n",
    "expect(is_tall(triangle(30, 50, \"outline\", \"purple\")), True)   # tall\n",
    "expect(is_tall(triangle(30, 30, \"outline\", \"purple\")), False)  # \"tied\"\n",
    "summary()\n",
    "```"
   ]
  },
  {
   "cell_type": "code",
   "execution_count": 5,
   "metadata": {},
   "outputs": [
    {
     "name": "stdout",
     "output_type": "stream",
     "text": [
      "\u001b[92m3 of 3 tests passed\u001b[0m\n"
     ]
    }
   ],
   "source": [
    "# Why return a bool? In Python, we represent the answers to yes-or-no\n",
    "# questions with bools. A bool is always a better choice than the other\n",
    "# options (like the strings \"yes\" and \"no\") for that representation challenge.\n",
    "@typecheck\n",
    "def is_tall(i: Image) -> bool:\n",
    "    \"\"\"\n",
    "    return True if i is taller than it is wide and False otherwise\n",
    "    \"\"\"\n",
    "    #return True  #stub; return False would have been equally good \n",
    "    #return ...(i)  #template; for Module 2, just lists our parameters\n",
    "    \n",
    "    # You could solve this problem with an if/else statemnt. However,\n",
    "    # the code below already returns True when the image's height is\n",
    "    # larger than its width and False otherwise.\n",
    "    return image_height(i) > image_width(i)\n",
    "\n",
    "start_testing()\n",
    "\n",
    "# We should certainly have at least one example that produces True and one that produces False,\n",
    "# or we're not really illustrating what the function can do.\n",
    "expect(is_tall(rectangle(100, 10, \"solid\", \"red\")), False)    # short\n",
    "expect(is_tall(triangle(30, 50, \"outline\", \"purple\")), True)  # tall\n",
    "\n",
    "# Are there any special cases? Yes, definitely! Given the purpose we decided on, what should \n",
    "# happen with an image that has the same width and height? We should demonstrate (and TEST)\n",
    "# that case.\n",
    "expect(is_tall(triangle(30, 30, \"outline\", \"purple\")), False) # \"tied\"\n",
    "\n",
    "# What if you decided \"any image that's more than 100 units high is tall\"? Well, you should\n",
    "# still likely have three test cases: above 100, below 100, and exactly 100 high. You should\n",
    "# also still explain in the purpose how YOU decided what tall means!\n",
    "summary()\n"
   ]
  },
  {
   "cell_type": "markdown",
   "metadata": {},
   "source": [
    "## The Worksheet \"multiply a number by 4\" Problem\n",
    "\n",
    "We'll work through these to get more practice with the recipe and to explain what we mean by the wording of these problems on the worksheet!\n",
    "\n",
    "The overarching problem is: **Design a function that multiplies a number by 4.**"
   ]
  },
  {
   "cell_type": "markdown",
   "metadata": {},
   "source": [
    "### \"circle the best signature and why you chose it\"\n",
    "1. `float -> 4*float`\n",
    "1. `number -> number`\n",
    "1. `float, float -> float`\n",
    "1. `float -> float`  **this one**\n",
    "\n",
    "\"Why is that the best signature?\"\n",
    "\n",
    "The first and second options aren't legal. (In the first case, there's no such type as `4*float`. In English, the second case kind of says what we want, but there's just no type in Python named `number`.)\n",
    "\n",
    "The third option describes a function that takes two parameters. We don't need two parameters (two \"inputs\"). We need a single number, which we'll then multiply by 4. You might think \"we need 4 as well\". That's fine, but it isn't a parameter; it's just 4! That's like a doughnut machine doesn't need as input a drawing of the shape to make the doughnut. Doughnuts look like 🍩, and that's all there is to it!"
   ]
  },
  {
   "cell_type": "markdown",
   "metadata": {},
   "source": [
    "### \"what is the second-best response or explain why there is none? Is that second-best response good enough to be an acceptable design?\"\n",
    "\n",
    "There isn't a second-best of the ones listed above. They're all basically wrong.\n",
    "\n",
    "If it were listed, `int -> int` might also be a good option, and we'd have to decide which we like better. (With no other guidance from the problem statement, it's kind of nice that `float -> float` doesn't require any extra work on our part and handles more possible inputs than `int -> int`.)"
   ]
  },
  {
   "cell_type": "markdown",
   "metadata": {},
   "source": [
    "### \"write a clear and succinct purpose\"\n",
    "\n",
    "Hint to creating a good purpose: Start by copying the problem statement and then improve it! Two common improvements: use your parameters' names to make it easier to read and describe any decision decisions that would impact anyone who calls the function.\n",
    "\n",
    "In this case, we're probably fine with \"multiply a number by 4\". If we knew the parameter was named `x`, then \"multiply x b 4\" would probably be better."
   ]
  },
  {
   "cell_type": "markdown",
   "metadata": {},
   "source": [
    "### \"match [the function] with an appropriate stub body\"\n",
    "\n",
    "We're working on `def times_four(x):`\n",
    "\n",
    "Here are the options:\n",
    "+ `return False`\n",
    "+ `return radius`\n",
    "+ `return x` **works, since in _this_ function, `x` is a `float`**\n",
    "+ `return colour`\n",
    "+ `return square(1, 'solid', 'white')`\n",
    "\n",
    "What if you had some *other* function like:\n",
    "\n",
    "```python\n",
    "def do_something_with_radius(radius: float) -> ...:\n",
    "```\n",
    "\n",
    "It doesn't matter. `radius` is that function's parameter not *our* function's parameter. It is not available from inside *our* function and so we cannot use it in the function body."
   ]
  },
  {
   "cell_type": "markdown",
   "metadata": {},
   "source": [
    "## CPSC 103 d-tective 😜\n",
    "\n",
    "**Problem:** Design a function that determines if a string starts with\n",
    "the letter *d*."
   ]
  },
  {
   "cell_type": "markdown",
   "metadata": {},
   "source": [
    "**NOTES:** When working this example on my own, it was only at the examples/tests stage that I realized I needed to think about uppercase vs. lowercase letters. The problem statement given to us *does not say* what we should do about case. There's a couple of reasonable choices: only look for lowercase d (since the problem statement does say *d*, and not *D*) or choose to look for both (since the problem statement doesn't seem to rule that out). We chose the second option, but the first would be fine too. Either way, we **had** to go back to our purpose to make our choice clear! The purpose should document any choices we face like this that are relevant to people who *call* our function! Of course, we also made sure to have tests that checked that we're doing the right thing! :)\n",
    "\n",
    "There were some other tricky cases to think about as well. The hardest is the empty string `\"\"`. How do we handle that below?"
   ]
  },
  {
   "cell_type": "code",
   "execution_count": 6,
   "metadata": {},
   "outputs": [
    {
     "name": "stdout",
     "output_type": "stream",
     "text": [
      "\u001b[92m5 of 5 tests passed\u001b[0m\n"
     ]
    }
   ],
   "source": [
    "# Let's put our answer here!\n",
    "\n",
    "# We made the design decision that \"starts with the letter d\" meant\n",
    "# just a lowercase \"d\", but we could have decided it meant \"lower- or\n",
    "# upper-case\", in which case our purpose would document that choice,\n",
    "# our examples/tests would illustrate and test it, and our code would\n",
    "# implement it.\n",
    "\n",
    "@typecheck\n",
    "def starts_with_d(s: str) -> bool:\n",
    "    \"\"\"\n",
    "    determines if a string starts with the letter d,\n",
    "    lowercase or uppercase.\n",
    "    (returns True if so and False otherwise)\n",
    "    \"\"\"\n",
    "    #return True #stub\n",
    "    #return ...(s)  #template\n",
    "    \n",
    "    if s == \"\":\n",
    "        return False\n",
    "    else:\n",
    "        return s[0] == 'd' or s[0] == 'D'\n",
    "\n",
    "\n",
    "start_testing()\n",
    "expect(starts_with_d(\"dinosaur\"), True)\n",
    "expect(starts_with_d(\"d\"), True)\n",
    "expect(starts_with_d(\"cat\"), False)\n",
    "expect(starts_with_d(\"David\"), True)\n",
    "expect(starts_with_d(\"\"), False)\n",
    "summary()"
   ]
  }
 ],
 "metadata": {
  "kernelspec": {
   "display_name": "Python 3",
   "language": "python",
   "name": "python3"
  },
  "language_info": {
   "codemirror_mode": {
    "name": "ipython",
    "version": 3
   },
   "file_extension": ".py",
   "mimetype": "text/x-python",
   "name": "python",
   "nbconvert_exporter": "python",
   "pygments_lexer": "ipython3",
   "version": "3.7.3"
  }
 },
 "nbformat": 4,
 "nbformat_minor": 2
}
