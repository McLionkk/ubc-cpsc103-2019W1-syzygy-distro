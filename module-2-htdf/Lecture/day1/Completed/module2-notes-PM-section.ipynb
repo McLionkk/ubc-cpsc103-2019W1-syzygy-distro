{
 "cells": [
  {
   "cell_type": "code",
   "execution_count": 2,
   "metadata": {},
   "outputs": [],
   "source": [
    "from cs103 import *"
   ]
  },
  {
   "cell_type": "markdown",
   "metadata": {},
   "source": [
    "# Module 2, Day 1 Notes\n",
    "\n",
    "Here is a summary of our How to Design Functions Recipe:\n",
    "\n",
    "1. Write the stub, including signature, purpose, and typecheck annotation.\n",
    "2. Write examples/tests\n",
    "3. Write or copy the template\n",
    "4. Code the function body\n",
    "5. Test and debug until correct"
   ]
  },
  {
   "cell_type": "markdown",
   "metadata": {},
   "source": [
    "## `is_tall` Quiz Problem\n",
    "\n",
    "Let's revisit the steps of: **Design a function that takes an Image and determines whether it is tall or not.**"
   ]
  },
  {
   "cell_type": "code",
   "execution_count": 18,
   "metadata": {},
   "outputs": [
    {
     "name": "stdout",
     "output_type": "stream",
     "text": [
      "\u001b[92m3 of 3 tests passed\u001b[0m\n",
      "Help on function is_tall in module __main__:\n",
      "\n",
      "is_tall(img: cs103.image.image.Image) -> bool\n",
      "\n"
     ]
    }
   ],
   "source": [
    "# Design is_tall here\n",
    "\n",
    "@typecheck\n",
    "def is_tall(img: Image) -> bool:\n",
    "    \"\"\"\n",
    "    return True if img is at least as tall as it is wide\n",
    "    and False otherwise\n",
    "    \"\"\"\n",
    "    #return True  #stub\n",
    "    #return ...(img)  #template\n",
    "    return image_height(img) >= image_width(img)\n",
    "\n",
    "\n",
    "start_testing()\n",
    "expect(is_tall(rectangle(10, 50, \"solid\", \"aquamarine\")), 50 >= 10)\n",
    "expect(is_tall(rectangle(50, 10, \"solid\", \"aquamarine\")), 10 >= 50)\n",
    "expect(is_tall(square(100, \"outline\", \"purple\")), 100 >= 100)\n",
    "\n",
    "summary()\n",
    "\n",
    "help(is_tall)"
   ]
  },
  {
   "cell_type": "code",
   "execution_count": 25,
   "metadata": {},
   "outputs": [
    {
     "name": "stdout",
     "output_type": "stream",
     "text": [
      "\u001b[92m3 of 3 tests passed\u001b[0m\n"
     ]
    }
   ],
   "source": [
    "# Design is_tall here\n",
    "\n",
    "# NOT AS GOOD A DESIGN, but what if we wanted str?\n",
    "@typecheck\n",
    "def is_tall_str(img: Image) -> str:\n",
    "    \"\"\"\n",
    "    return \"yes\" if img is at least as tall as it is wide\n",
    "    and \"no\" otherwise\n",
    "    \"\"\"\n",
    "    #return \"RUN ME PLEASE, PYTHON!!!!!!!!\"  #stub\n",
    "    #return ...(img)  #template\n",
    "    if image_height(img) >= image_width(img):\n",
    "        return \"yes\"\n",
    "    else:\n",
    "        return \"no\"\n",
    "\n",
    "\n",
    "start_testing()\n",
    "expect(is_tall_str(rectangle(10, 50, \"solid\", \"aquamarine\")), \"yes\")\n",
    "expect(is_tall_str(rectangle(50, 10, \"solid\", \"aquamarine\")), \"no\")\n",
    "expect(is_tall_str(square(100, \"outline\", \"purple\")), \"yes\")\n",
    "\n",
    "summary()"
   ]
  },
  {
   "cell_type": "markdown",
   "metadata": {},
   "source": [
    "## The Worksheet \"multiply a number by 4\" Problem\n",
    "\n",
    "We'll work through these to get more practice with the recipe and to explain what we mean by the wording of these problems on the worksheet!\n",
    "\n",
    "The overarching problem is: **Design a function that multiplies a number by 4.**"
   ]
  },
  {
   "cell_type": "markdown",
   "metadata": {},
   "source": [
    "### \"circle the best signature and why you chose it\"\n",
    "1. `float -> 4*float`  Sadly, there's no such thing as `4*float`\n",
    "1. `number -> number`   No; number does not exist.\n",
    "1. `float, float -> float`\n",
    "1. `float -> float`\n",
    "\n",
    "```python\n",
    "def multiply4(x: float) -> float:\n",
    "    \"\"\"\n",
    "    returns x multiplied by 4.\n",
    "    \"\"\"\n",
    "```\n",
    "\n",
    "\"Why is that the best signature?\""
   ]
  },
  {
   "cell_type": "markdown",
   "metadata": {},
   "source": [
    "### \"what is the second-best response or explain why there is none? Is that second-best response good enough to be an acceptable design?\"\n",
    "\n",
    "`int -> int`"
   ]
  },
  {
   "cell_type": "markdown",
   "metadata": {},
   "source": [
    "### \"write a clear and succinct purpose\""
   ]
  },
  {
   "cell_type": "markdown",
   "metadata": {},
   "source": [
    "### \"match [the function] with an appropriate stub body\"\n",
    "\n",
    "We're working on `def times_four(x):`\n",
    "\n",
    "Here are the options:\n",
    "+ `return False`\n",
    "+ `return radius`\n",
    "+ `return x` **this one*\n",
    "+ `return colour`\n",
    "+ `return square(1, 'solid', 'white')`"
   ]
  },
  {
   "cell_type": "markdown",
   "metadata": {},
   "source": [
    "## CPSC 103 d-tective 😜\n",
    "\n",
    "**Problem:** Design a function that determines if a string starts with\n",
    "the letter *d*."
   ]
  },
  {
   "cell_type": "code",
   "execution_count": null,
   "metadata": {},
   "outputs": [],
   "source": [
    "# Let's put our answer here!\n",
    "\n"
   ]
  }
 ],
 "metadata": {
  "kernelspec": {
   "display_name": "Python 3",
   "language": "python",
   "name": "python3"
  },
  "language_info": {
   "codemirror_mode": {
    "name": "ipython",
    "version": 3
   },
   "file_extension": ".py",
   "mimetype": "text/x-python",
   "name": "python",
   "nbconvert_exporter": "python",
   "pygments_lexer": "ipython3",
   "version": "3.7.3"
  }
 },
 "nbformat": 4,
 "nbformat_minor": 2
}
