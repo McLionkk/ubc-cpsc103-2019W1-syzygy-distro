{
 "cells": [
  {
   "cell_type": "markdown",
   "metadata": {},
   "source": [
    "#  Tutorial Questions - Intro to Python\n",
    "\n",
    "**Pre-Tutorial Work:**\n",
    "\n",
    "None this week."
   ]
  },
  {
   "cell_type": "markdown",
   "metadata": {},
   "source": [
    "## Problem 1\n",
    "\n",
    "Write a statement that finds the second character of the value stored in the variable `season` and assigns it to a new variable. Make sure to choose a meaningful name for your new variable."
   ]
  },
  {
   "cell_type": "code",
   "execution_count": 1,
   "metadata": {},
   "outputs": [],
   "source": [
    "# Given variable\n",
    "season = \"summer\"\n",
    "\n",
    "# solution\n",
    "second_char = season[1]"
   ]
  },
  {
   "cell_type": "markdown",
   "metadata": {},
   "source": [
    "## Problem 2\n",
    "\n",
    "Write a code fragment (i.e. one or more lines of code) that calculates the average of the three ages. Your code fragment should still calculate the correct average even if you change the values assigned to the three variables `age1`, `age2`, and `age3`."
   ]
  },
  {
   "cell_type": "code",
   "execution_count": 2,
   "metadata": {},
   "outputs": [],
   "source": [
    "age1 = 21\n",
    "age2 = 30\n",
    "age3 = 18\n",
    "\n",
    "# solution\n",
    "average = (age1 + age2 + age3)/3"
   ]
  },
  {
   "cell_type": "markdown",
   "metadata": {},
   "source": [
    "## Problem 3\n",
    "\n",
    "Write the step-by-step evaluation of the expression `9 >= (8+1) and 2*2 < 5`. \n",
    "\n",
    "Note that you are allowed to elide steps as seen in Example 3 in\n",
    "Section 3.2.2 of the [Evaluation Rules document](https://canvas.ubc.ca/courses/3690/pages/evaluation-rules?module_item_id=150364)."
   ]
  },
  {
   "cell_type": "code",
   "execution_count": 3,
   "metadata": {},
   "outputs": [
    {
     "data": {
      "text/plain": [
       "True"
      ]
     },
     "execution_count": 3,
     "metadata": {},
     "output_type": "execute_result"
    }
   ],
   "source": [
    "# Original expression\n",
    "9 >= (8+1) and 2*2 < 5\n",
    "\n",
    "# solution\n",
    "9 >= 9 and 2*2 < 5\n",
    "True and 2*2 < 5\n",
    "True and 4 < 5\n",
    "True and True\n",
    "True"
   ]
  },
  {
   "cell_type": "markdown",
   "metadata": {},
   "source": [
    "## Problem 4\n",
    "\n",
    "The following code fragment is intended to add 5% sales tax to a price (the price is in cents) if `add_tax` is `True`, but it contains one or more errors. If `add_tax` is `False`, no tax should be added. Debug (fix) the code fragment until it is correct and runs without errors."
   ]
  },
  {
   "cell_type": "code",
   "execution_count": 4,
   "metadata": {},
   "outputs": [],
   "source": [
    "price = 10000\n",
    "add_tax = True\n",
    "\n",
    "if add_tax:\n",
    "    price = price + price * .05"
   ]
  },
  {
   "cell_type": "markdown",
   "metadata": {},
   "source": [
    "## Problem 5\n",
    "\n",
    "Now that you've debugged the code fragment above, write a function that takes a price, adds 5% tax, and returns the total including the tax."
   ]
  },
  {
   "cell_type": "code",
   "execution_count": 5,
   "metadata": {},
   "outputs": [],
   "source": [
    "def add_tax(price):\n",
    "    return price + price * 0.05"
   ]
  },
  {
   "cell_type": "markdown",
   "metadata": {},
   "source": [
    "## Problem 6\n",
    "\n",
    "Now you want a function that will take a price (perhaps from an activity for which you'll share the cost with friends), adds tax, and then splits the bill over some number of people.\n",
    "\n",
    "We've got the function started for you, but you must complete it. Your function *must* call the function you defined in problem 5. We recommend that you call your function with different inputs and check that you're getting the results that you expect."
   ]
  },
  {
   "cell_type": "code",
   "execution_count": 6,
   "metadata": {},
   "outputs": [],
   "source": [
    "def split_cost(num_people_to_split, cost):\n",
    "    total_cost = add_tax(cost)\n",
    "    cost_per_person = total_cost / num_people_to_split\n",
    "    return cost_per_person\n"
   ]
  },
  {
   "cell_type": "code",
   "execution_count": 7,
   "metadata": {},
   "outputs": [
    {
     "data": {
      "text/plain": [
       "21.0"
      ]
     },
     "execution_count": 7,
     "metadata": {},
     "output_type": "execute_result"
    }
   ],
   "source": [
    "# example for split_cost\n",
    "split_cost(5, 100) # expect the result 21.0"
   ]
  },
  {
   "cell_type": "code",
   "execution_count": 8,
   "metadata": {},
   "outputs": [
    {
     "data": {
      "text/plain": [
       "21.0"
      ]
     },
     "execution_count": 8,
     "metadata": {},
     "output_type": "execute_result"
    }
   ],
   "source": [
    "# example for split_cost\n",
    "split_cost(1, 20) # expect the result 21.0"
   ]
  },
  {
   "cell_type": "code",
   "execution_count": 9,
   "metadata": {},
   "outputs": [
    {
     "data": {
      "text/plain": [
       "10.5"
      ]
     },
     "execution_count": 9,
     "metadata": {},
     "output_type": "execute_result"
    }
   ],
   "source": [
    "# example for split_cost\n",
    "split_cost(2, 20) # expect the result 10.50"
   ]
  }
 ],
 "metadata": {
  "kernelspec": {
   "display_name": "Python 3",
   "language": "python",
   "name": "python3"
  },
  "language_info": {
   "codemirror_mode": {
    "name": "ipython",
    "version": 3
   },
   "file_extension": ".py",
   "mimetype": "text/x-python",
   "name": "python",
   "nbconvert_exporter": "python",
   "pygments_lexer": "ipython3",
   "version": "3.7.3"
  }
 },
 "nbformat": 4,
 "nbformat_minor": 1
}
