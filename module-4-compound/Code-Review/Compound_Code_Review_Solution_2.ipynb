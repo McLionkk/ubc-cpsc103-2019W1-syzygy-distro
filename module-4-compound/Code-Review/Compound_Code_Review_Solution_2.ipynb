{
 "cells": [
  {
   "cell_type": "code",
   "execution_count": null,
   "metadata": {
    "collapsed": true
   },
   "outputs": [],
   "source": [
    "from typing import NamedTuple\n",
    "\n",
    "#Problem 1\n",
    "\n",
    "Car=NamedTuple('Car', [('make', str),       \n",
    "                       ('model', str),\n",
    "                       ('price', float),  #in range [0.00,...) #in thousands of Canadian dollars\n",
    "                       ('electric', bool)])\n",
    "#interp. a car of a certain make ('make'), model ('model'), price in thousands of Canadian dollars ('price'), \n",
    "#and whether or not the car is electrically powered ('electric')\n",
    "\n",
    "C1=Car('Tesla', 'Model X', 120.5, True)\n",
    "C2=Car('Honda', 'Civic', 20.0, False)\n",
    "C3=Car('Acura', 'MDX', 50.0, False)\n",
    "C4=Car('Smart', 'Fortwo', 35.0, True)\n",
    "\n",
    "def fn_for_car(c: Car)->...:  #Template based on Compound\n",
    "    return...(c.make,    #str\n",
    "              c.model,   #str\n",
    "              c.price,   #float in range [0.00,...)\n",
    "              c.electric)#bool\n"
   ]
  },
  {
   "cell_type": "code",
   "execution_count": null,
   "metadata": {},
   "outputs": [],
   "source": [
    "from cs103 import*\n",
    "\n",
    "#Problem 2\n",
    "\n",
    "def is_affordable_elec(b: float, aec: Car)->bool:\n",
    "    \"\"\"\n",
    "    returns True if aec is below the given budget, b, and is electric\n",
    "    \"\"\"\n",
    "    #return True\n",
    "    #Template from Car\n",
    "    return (aec.price < b) and aec.electric\n",
    "\n",
    "#for examples\n",
    "b=50   #b stands for budget\n",
    "\n",
    "start_testing()\n",
    "\n",
    "expect(is_affordable_elec(b, C4), True)\n",
    "expect(is_affordable_elec(b, C1), False)\n",
    "expect(is_affordable_elec(b, C2), False)\n",
    "expect(is_affordable_elec(b, C3), False)\n",
    "\n",
    "summary()"
   ]
  }
 ],
 "metadata": {
  "kernelspec": {
   "display_name": "Python 3",
   "language": "python",
   "name": "python3"
  },
  "language_info": {
   "codemirror_mode": {
    "name": "ipython",
    "version": 3
   },
   "file_extension": ".py",
   "mimetype": "text/x-python",
   "name": "python",
   "nbconvert_exporter": "python",
   "pygments_lexer": "ipython3",
   "version": "3.6.7"
  }
 },
 "nbformat": 4,
 "nbformat_minor": 2
}
