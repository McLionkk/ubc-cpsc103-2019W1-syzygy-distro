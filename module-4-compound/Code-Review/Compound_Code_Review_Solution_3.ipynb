{
 "cells": [
  {
   "cell_type": "code",
   "execution_count": null,
   "metadata": {
    "collapsed": true
   },
   "outputs": [],
   "source": [
    "from cs103 import *\n",
    "from typing import NamedTuple \n",
    "from enum import Enum\n",
    "\n",
    "#problem 1\n",
    "\n",
    "EnergyType = Enum('EnergyType', ['gp', 'ep'])\n",
    "#interp. the type of energy a car consumes.\n",
    "#'gp' is gas-powered and 'ep' is electric-powered\n",
    "#examples are redundant for enumerations \n",
    "\n",
    "#template based on One Of (2 cases) and Atom Distinct (2 times)\n",
    "def fn_for_energy_type (et:EnergyType)->...:\n",
    "    if et== EneryType.gp:\n",
    "        return ...\n",
    "    elif et== EnergyType.ep:\n",
    "        return ... \n",
    "\n",
    "Car= NamedTuple('Car', [('make', str), \n",
    "                      ('model',str),\n",
    "                      ('price', int ),\n",
    "                      ('energy_type', EnergyType)])\n",
    "#interp. make (make), model(model), price (price) and energy type (energy_type) of a given car\n",
    "# energy type of a car is either electric-powered or gas-powered \n",
    "\n",
    "C1= Car('honda', 'civic',25000, EnergyType.gp)\n",
    "C2= Car('toyota', 'camry',60000, EnergyType.ep)\n",
    "\n",
    "#Template based on Compound (4 fields) and Reference\n",
    "def fn_for_car(c:Car)->...: \n",
    "    return...(c.make, \n",
    "             c.model,\n",
    "             c.price,\n",
    "             fn_for_energy_type(c.energy_type)) "
   ]
  },
  {
   "cell_type": "code",
   "execution_count": null,
   "metadata": {},
   "outputs": [],
   "source": [
    "#problem 2 \n",
    "\n",
    "\n",
    "def affordable_car(c:Car, b:float)-> bool: \n",
    "    '''\n",
    "    returns True if cost for a given car is equal or less than inputed budget(b). \n",
    "    '''\n",
    "    #return True #stub\n",
    "    #Template from Car and Atomic Non-Distinct\n",
    "    \n",
    "    return (c.price<= b)\n",
    "    \n",
    "start_testing()\n",
    "\n",
    "expect(affordable_car(C1, 25000), True )\n",
    "expect(affordable_car(C2, 40000), False)\n",
    "expect(affordable_car(C2, 65000), True )\n",
    "\n",
    "summary()\n",
    "\n",
    "\n"
   ]
  }
 ],
 "metadata": {
  "kernelspec": {
   "display_name": "Python 3",
   "language": "python",
   "name": "python3"
  },
  "language_info": {
   "codemirror_mode": {
    "name": "ipython",
    "version": 3
   },
   "file_extension": ".py",
   "mimetype": "text/x-python",
   "name": "python",
   "nbconvert_exporter": "python",
   "pygments_lexer": "ipython3",
   "version": "3.6.6"
  }
 },
 "nbformat": 4,
 "nbformat_minor": 2
}
