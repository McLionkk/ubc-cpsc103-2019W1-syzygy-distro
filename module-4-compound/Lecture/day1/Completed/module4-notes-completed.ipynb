{
 "cells": [
  {
   "cell_type": "code",
   "execution_count": 1,
   "metadata": {},
   "outputs": [],
   "source": [
    "from cs103 import *"
   ]
  },
  {
   "cell_type": "markdown",
   "metadata": {},
   "source": [
    "## Module 4: Information Composed of Many Pieces and Compound Data "
   ]
  },
  {
   "cell_type": "markdown",
   "metadata": {},
   "source": [
    "### Artist: Compound or Enumeration?\n",
    "\n",
    "Our artist question asks you to represent \"an artist's family name,\n",
    "given name, birthplace, and art form (e.g., oil painting, sculpture,\n",
    "dance)\".\n",
    "\n",
    "What does one value of this type look like? Let's use [Georgia O'Keeffe](https://en.wikipedia.org/wiki/Georgia_O'Keeffe)\n",
    "(the painter, born in Wisconsin) as our example. We'll try solving the\n",
    "problem first with a compound and then with an enumeration and then\n",
    "try to represent O'Keeffe."
   ]
  },
  {
   "cell_type": "code",
   "execution_count": 2,
   "metadata": {},
   "outputs": [],
   "source": [
    "# Version 1: compound (the best design)\n",
    "from typing import NamedTuple\n",
    "\n",
    "Artist = NamedTuple('Artist', [('family_name', str),\n",
    "                               ('given_name', str),\n",
    "                               ('birthplace', str),\n",
    "                               ('art_form', str)])\n",
    "# interp. an artist with their family name, given name, place of birth,\n",
    "#         and the art form they were best known for.\n",
    "A_MONET = Artist('Monet', 'Claude', 'Paris', 'pastels')\n",
    "A_NAOMI = Artist('Wolfman', 'Naomi', 'Vancouver', 'line drawings')\n",
    "\n",
    "@typecheck\n",
    "# template based on compound (4 fields)\n",
    "def fn_for_artist(a: Artist) -> ...:\n",
    "    return ...(a.family_name,\n",
    "               a.given_name,\n",
    "               a.birthplace,\n",
    "               a.art_form)\n",
    "\n",
    "georgia = Artist(\"O'Keeffe\", \"Georgia\", \"Wisconsin\", \"paintings\")"
   ]
  },
  {
   "cell_type": "code",
   "execution_count": 3,
   "metadata": {},
   "outputs": [],
   "source": [
    "# Version 2: enumeration (INCORRECT design)\n",
    "from enum import Enum\n",
    "\n",
    "Artist = Enum('Artist', ['family_name', 'given_name', 'birthplace', 'art_form'])\n",
    "# interp. an aspect of an artist, one of their family name, their given name\n",
    "# their birthplace, or their art form.\n",
    "# Examples are redundant for enumerations.\n",
    "\n",
    "\n",
    "# template based on enumeration (4 cases)\n",
    "@typecheck\n",
    "def fn_for_artist(a: Artist) -> ...:\n",
    "    if a == Artist.family_name:\n",
    "        return ...\n",
    "    elif a == Artist.given_name:\n",
    "        return ...\n",
    "    elif a == Artist.birthplace:\n",
    "        return ...\n",
    "    elif a == Artist.art_form:\n",
    "        return ...\n",
    "\n",
    "# Georgia O'Keeffe is not a family name. \n",
    "# She's not a given name. \n",
    "# She's not a birthplace.\n",
    "# She's not an art form.\n",
    "# This type just cannot represent her.\n",
    "# It can represent \"which aspect of an artist\" we're interested in.\n",
    "georgia = ...  "
   ]
  },
  {
   "cell_type": "code",
   "execution_count": 4,
   "metadata": {},
   "outputs": [],
   "source": [
    "# \"Bonus\" Version 3: simple atomic (bad design, if not entirely incorrect)\n",
    "\n",
    "Artist = str\n",
    "# interp. an artist with their family name then given name followed by \"born in\"\n",
    "# and their birthplace and \"known for\" and their art form.\n",
    "A_MONET = 'Monet Claude born in Paris known for pastels'\n",
    "A_NAOMI = 'Wolfman Naomi born in Vancouver known for line drawings'\n",
    "\n",
    "@typecheck\n",
    "# template based on atomic non-distinct\n",
    "def fn_for_artist(a: Artist) -> ...:\n",
    "    return ...(a)\n",
    "\n",
    "\n",
    "georgia = \"O'Keeffe Georgia born in Wisconsin known for paintings\"\n",
    "\n",
    "# That has all the information we want to represent inside, but does it\n",
    "# really fit our intended structure for the information? Imagine you\n",
    "# simply wanted to design a function to return where a given artist was\n",
    "# born. How difficult will that be to design? How much help does the\n",
    "# data definition give you in that task?\n",
    "\n",
    "# Sometimes we have to suffer through this kind of design choice when\n",
    "# the language doesn't support our intentions. Happily, NamedTuple in\n",
    "# Python DOES support our intent in this problem!"
   ]
  },
  {
   "cell_type": "markdown",
   "metadata": {},
   "source": [
    "### Games\n",
    "\n",
    "**Problem:** You're designing software for [boardgamegeek.com](https://boardgamegeek.com/). Design a data\n",
    "definition for a game. Your users need to record the name of the game,\n",
    "the name of the designer, the number of players, and the\n",
    "recommended minimum age to play.\n",
    "\n",
    "*Question* What should we do if the number of players is something like \"a game for 3 to 5 players\"?"
   ]
  },
  {
   "cell_type": "code",
   "execution_count": 5,
   "metadata": {},
   "outputs": [],
   "source": [
    "# Solution here\n",
    "from typing import NamedTuple\n",
    "\n",
    "Game = NamedTuple('Game', [('name', str),\n",
    "                           ('designer', str),\n",
    "                           ('min_num_players', int),  # in range[1,...]\n",
    "                           ('max_num_players', int),  # in range[min_num_players,...]\n",
    "                           ('min_age', int)])         # in range[0,...]\n",
    "# interp. a game with its name, name of the game designer, number of players \n",
    "# (as a range from min_num_players to max_num_players), and minimum age (min_age).\n",
    "G_GLOOMHAVEN = Game('Gloomhaven', 'Isaac Childres', 1, 4, 12)\n",
    "G_BBMM = Game('Bunny Bunny Moose Moose', 'Vlaada Chvatil', 3, 7, 6)\n",
    "\n",
    "\n",
    "# template based on compound (5 fields)\n",
    "@typecheck\n",
    "def fn_for_game(g: Game) -> ...:\n",
    "    return ...(g.name,\n",
    "               g.designer,\n",
    "               g.min_num_players,\n",
    "               g.max_num_players,\n",
    "               g.min_age)"
   ]
  },
  {
   "cell_type": "markdown",
   "metadata": {},
   "source": [
    "**Problem:** Design a function to determine if a child can play the board game, assuming that they can play it if they're at least 5 years younger than the minimum age."
   ]
  },
  {
   "cell_type": "code",
   "execution_count": 6,
   "metadata": {},
   "outputs": [
    {
     "name": "stdout",
     "output_type": "stream",
     "text": [
      "\u001b[92m4 of 4 tests passed\u001b[0m\n"
     ]
    }
   ],
   "source": [
    "# Solution here\n",
    "\n",
    "@typecheck\n",
    "def can_play(g: Game, age: int) -> bool:\n",
    "    \"\"\"\n",
    "    determine if a child of the given age can play the board game g,\n",
    "    where we allow them to play games even when they are 5 years too young\n",
    "    \"\"\"\n",
    "    #return True  #stub\n",
    "    # copied template from Game w/extra parameter (age)\n",
    "    return g.min_age <= age + 5\n",
    "\n",
    "\n",
    "\n",
    "start_testing()\n",
    "expect(can_play(G_GLOOMHAVEN, 11), True)\n",
    "expect(can_play(G_GLOOMHAVEN, 3), False)\n",
    "expect(can_play(Game('Bunny Bunny Moose Moose', 'Vlaada Chvatil', 3, 7, 6), 1), True)\n",
    "expect(can_play(Game('Bunny Bunny Moose Moose', 'Vlaada Chvatil', 3, 7, 6), 0), False)\n",
    "summary()"
   ]
  },
  {
   "cell_type": "markdown",
   "metadata": {},
   "source": [
    "### Books\n",
    "\n",
    "**Problem:** You're designing software for a bibliography system.\n",
    "\n",
    "Design a data definition for a book. Your users need to record title, author, year of publication, and number of pages."
   ]
  },
  {
   "cell_type": "code",
   "execution_count": 7,
   "metadata": {},
   "outputs": [],
   "source": [
    "from typing import NamedTuple\n",
    "\n",
    "Book = NamedTuple('Book', [('title', str),\n",
    "                           ('author', str),\n",
    "                           ('year', int),   # in range [1, ...]\n",
    "                           ('pages', int)]) # in range [0, ...]\n",
    "# interp. A data definition to represent a book with a title, an author,\n",
    "# a year of publication, and the number of pages\n",
    "\n",
    "B1 = Book(\"Harry Potter and the Philosopher's Stone\", \"J.K. Rowling\", 1999, 223)\n",
    "B2 = Book(\"The Art of War\", \"Sun Tzu\", 2010, 52)\n",
    "B3 = Book(\"Big Fish Little Fish\", \"Jonathan Litton\", 2016, 16)\n",
    "\n",
    "# Template based on compound (4 fields)\n",
    "@typecheck\n",
    "def fn_for_book(b: Book) -> ...:\n",
    "    return ...(b.title,\n",
    "              b.author,\n",
    "              b.year,\n",
    "              b.pages)"
   ]
  },
  {
   "cell_type": "markdown",
   "metadata": {},
   "source": [
    "**Problem:** Design a function to determine whether a book is good to read aloud to a 4 year old, assuming 4 year olds only like books published in the last 3 years (you may assume it's 2019!) of less than 20 pages."
   ]
  },
  {
   "cell_type": "code",
   "execution_count": 8,
   "metadata": {},
   "outputs": [
    {
     "name": "stdout",
     "output_type": "stream",
     "text": [
      "\u001b[92m5 of 5 tests passed\u001b[0m\n"
     ]
    }
   ],
   "source": [
    "@typecheck\n",
    "def should_read_aloud(b: Book) -> bool:\n",
    "    \"\"\"\n",
    "    Returns True when you should read this book aloud to a 4 year old\n",
    "    (i.e., the book has been published in the last 3 years (assuming it's 2019!)\n",
    "    and is less than 20 pages); False otherwise.\n",
    "    \"\"\"\n",
    "    #return True #stub\n",
    "    # Template from Book\n",
    "    return b.year >= 2016 and b.pages < 20\n",
    "\n",
    "start_testing()\n",
    "expect(should_read_aloud(B1), False)\n",
    "expect(should_read_aloud(B2), False)\n",
    "expect(should_read_aloud(B3), True)\n",
    "expect(should_read_aloud(Book(\"The Art of War\", \"Sun Tzu\", 2010, 12)), False)\n",
    "expect(should_read_aloud(Book(\"The Art of War\", \"Sun Tzu\", 2018, 20)), False)\n",
    "summary()"
   ]
  }
 ],
 "metadata": {
  "kernelspec": {
   "display_name": "Python 3",
   "language": "python",
   "name": "python3"
  },
  "language_info": {
   "codemirror_mode": {
    "name": "ipython",
    "version": 3
   },
   "file_extension": ".py",
   "mimetype": "text/x-python",
   "name": "python",
   "nbconvert_exporter": "python",
   "pygments_lexer": "ipython3",
   "version": "3.7.3"
  }
 },
 "nbformat": 4,
 "nbformat_minor": 2
}
