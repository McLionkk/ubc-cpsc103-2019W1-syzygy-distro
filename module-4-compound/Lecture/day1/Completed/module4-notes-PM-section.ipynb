{
 "cells": [
  {
   "cell_type": "code",
   "execution_count": 2,
   "metadata": {},
   "outputs": [],
   "source": [
    "from cs103 import *"
   ]
  },
  {
   "cell_type": "markdown",
   "metadata": {},
   "source": [
    "## Module 4: Information Composed of Many Pieces and Compound Data "
   ]
  },
  {
   "cell_type": "markdown",
   "metadata": {},
   "source": [
    "### Artist: Compound or Enumeration?\n",
    "\n",
    "Our artist question asks you to represent \"an artist's family name,\n",
    "given name, birthplace, and art form (e.g., oil painting, sculpture,\n",
    "dance)\".\n",
    "\n",
    "What does one value of this type look like? Let's use [Georgia O'Keeffe](https://en.wikipedia.org/wiki/Georgia_O'Keeffe)\n",
    "(the painter, born in Wisconsin) as our example. We'll try solving the\n",
    "problem first with a compound and then with an enumeration and then\n",
    "try to represent O'Keeffe."
   ]
  },
  {
   "cell_type": "code",
   "execution_count": 6,
   "metadata": {},
   "outputs": [
    {
     "data": {
      "text/plain": [
       "'Wisconsin'"
      ]
     },
     "execution_count": 6,
     "metadata": {},
     "output_type": "execute_result"
    }
   ],
   "source": [
    "# Version 1: compound\n",
    "from typing import NamedTuple\n",
    "\n",
    "Artist = NamedTuple('Artist', [('family_name', str), \n",
    "                               ('given_name', str), \n",
    "                               ('birthplace', str), \n",
    "                               ('art_form', str)])\n",
    "# interp. an artist with their family name, given name, place of birth,\n",
    "#         and the art form they were best known for.\n",
    "A_MONET = Artist('Monet', 'Claude', 'Paris', 'pastels')\n",
    "A_NAOMI = Artist('Wolfman', 'Naomi', 'Vancouver', 'line drawings')\n",
    "\n",
    "@typecheck\n",
    "# template based on compound (4 fields)\n",
    "def fn_for_artist(a: Artist) -> ...:\n",
    "    return ...(a.family_name,\n",
    "               a.given_name,\n",
    "               a.birthplace,\n",
    "               a.art_form)\n",
    "\n",
    "georgia = Artist(\"O'Keeffe\", 'Georgia', 'Wisconsin', 'oil paintings')\n",
    "\n",
    "georgia.birthplace"
   ]
  },
  {
   "cell_type": "code",
   "execution_count": null,
   "metadata": {},
   "outputs": [],
   "source": [
    "# Version 2: enumeration\n",
    "from enum import Enum\n",
    "\n",
    "Artist = Enum('Artist', ['family_name', 'given_name', 'birthplace', 'art_form'])\n",
    "# interp. an aspect of an artist, one of their family name, their given name\n",
    "# their birthplace, or their art form.\n",
    "# Examples are redundant for enumerations.\n",
    "\n",
    "\n",
    "# template based on enumeration (4 cases)\n",
    "@typecheck\n",
    "def fn_for_artist(a: Artist) -> ...:\n",
    "    if a == Artist.family_name:\n",
    "        return ...\n",
    "    elif a == Artist.given_name:\n",
    "        return ...\n",
    "    elif a == Artist.birthplace:\n",
    "        return ...\n",
    "    elif a == Artist.art_form:\n",
    "        return ...\n",
    "\n",
    "georgia = ...  # cannot construct the kind of values we need!"
   ]
  },
  {
   "cell_type": "code",
   "execution_count": null,
   "metadata": {},
   "outputs": [],
   "source": [
    "# \"Bonus\" Version 3: simple atomic\n",
    "\n",
    "Artist = str\n",
    "# interp. an artist with their family name then given name followed by \"born in\"\n",
    "# and their birthplace and \"known for\" and their art form.\n",
    "A_MONET = 'Monet Claude born in Paris known for pastels'\n",
    "A_NAOMI = 'Wolfman Naomi born in Vancouver known for line drawings'\n",
    "\n",
    "@typecheck\n",
    "# template based on atomic non-distinct\n",
    "def fn_for_artist(a: Artist) -> ...:\n",
    "    return ...(a)\n",
    "\n",
    "\n",
    "georgia = \"O'Keeffe Georgia born in Wisconsin known for paintings\"\n",
    "\n",
    "# That has all the information we want to represent inside, but does it\n",
    "# really fit our intended structure for the information? Imagine you\n",
    "# simply wanted to design a function to return where a given artist was\n",
    "# born. How difficult will that be to design? How much help does the\n",
    "# data definition give you in that task?"
   ]
  },
  {
   "cell_type": "markdown",
   "metadata": {},
   "source": [
    "### Games\n",
    "\n",
    "**Problem:** You're designing software for [boardgamegeek.com](https://boardgamegeek.com/). Design a data\n",
    "definition for a game. Your users need to record the name of the game,\n",
    "the name of the designer, the number of players, and the\n",
    "recommended minimum age to play.\n",
    "\n",
    "*Question* What should we do if the number of players is something like \"a game for 3 to 5 players\"?"
   ]
  },
  {
   "cell_type": "code",
   "execution_count": 11,
   "metadata": {},
   "outputs": [],
   "source": [
    "# Solution here\n",
    "\n",
    "from typing import NamedTuple\n",
    "\n",
    "Game = NamedTuple('Game', [('name', str),\n",
    "                           ('designer', str),\n",
    "                           ('min_num_players', int),  # in range[1,...]\n",
    "                           ('max_num_players', int),  # in range[min_num_players,...]\n",
    "                           ('min_age', int)])     # in range[0,...]\n",
    "# interp. a board game with its name, its designer's name, the number\n",
    "# of players as a minimum (min_num_players) up to a maximum (max_num_players),\n",
    "# and the recommended minimum age to play (min_age).\n",
    "G_GLOOMHAVEN = Game('Gloomhaven', 'Isaac Childres', 1, 4, 14)\n",
    "G_BBMM = Game('Bunny Bunny Moose Moose', 'Vlaada Chvatil', 3, 7, 5)\n",
    "\n",
    "# template based on compound (5 fields)\n",
    "@typecheck\n",
    "def fn_for_game(g: Game) -> ...:\n",
    "    return ...(g.name,\n",
    "               g.designer,\n",
    "               g.min_num_players,\n",
    "               g.max_num_players,\n",
    "               g.min_age)\n"
   ]
  },
  {
   "cell_type": "markdown",
   "metadata": {},
   "source": [
    "**Problem:** Design a function to determine if a child can play the board game, assuming that they can play it if they're at least 5 years younger than the minimum age."
   ]
  },
  {
   "cell_type": "code",
   "execution_count": 18,
   "metadata": {},
   "outputs": [
    {
     "ename": "TypeError",
     "evalue": "unsupported operand type(s) for -: 'property' and 'int'",
     "output_type": "error",
     "traceback": [
      "\u001b[0;31m---------------------------------------------------------------------------\u001b[0m",
      "\u001b[0;31mTypeError\u001b[0m                                 Traceback (most recent call last)",
      "\u001b[0;32m<ipython-input-18-da10b7d261f8>\u001b[0m in \u001b[0;36m<module>\u001b[0;34m\u001b[0m\n\u001b[1;32m     14\u001b[0m \u001b[0mstart_testing\u001b[0m\u001b[0;34m(\u001b[0m\u001b[0;34m)\u001b[0m\u001b[0;34m\u001b[0m\u001b[0;34m\u001b[0m\u001b[0m\n\u001b[1;32m     15\u001b[0m \u001b[0;34m\u001b[0m\u001b[0m\n\u001b[0;32m---> 16\u001b[0;31m \u001b[0mexpect\u001b[0m\u001b[0;34m(\u001b[0m\u001b[0mcan_play\u001b[0m\u001b[0;34m(\u001b[0m\u001b[0;36m9\u001b[0m\u001b[0;34m,\u001b[0m \u001b[0mG_GLOOMHAVEN\u001b[0m\u001b[0;34m)\u001b[0m\u001b[0;34m,\u001b[0m \u001b[0;36m9\u001b[0m \u001b[0;34m>=\u001b[0m \u001b[0;36m14\u001b[0m \u001b[0;34m-\u001b[0m \u001b[0;36m5\u001b[0m\u001b[0;34m)\u001b[0m  \u001b[0;31m# min rec'd age is 14\u001b[0m\u001b[0;34m\u001b[0m\u001b[0;34m\u001b[0m\u001b[0m\n\u001b[0m\u001b[1;32m     17\u001b[0m \u001b[0;34m\u001b[0m\u001b[0m\n\u001b[1;32m     18\u001b[0m \u001b[0mexpect\u001b[0m\u001b[0;34m(\u001b[0m\u001b[0mcan_play\u001b[0m\u001b[0;34m(\u001b[0m\u001b[0;36m3\u001b[0m\u001b[0;34m,\u001b[0m \u001b[0mG_GLOOMHAVEN\u001b[0m\u001b[0;34m)\u001b[0m\u001b[0;34m,\u001b[0m \u001b[0;36m3\u001b[0m \u001b[0;34m>=\u001b[0m \u001b[0;36m14\u001b[0m \u001b[0;34m-\u001b[0m \u001b[0;36m5\u001b[0m\u001b[0;34m)\u001b[0m  \u001b[0;31m# min rec'd age is 14\u001b[0m\u001b[0;34m\u001b[0m\u001b[0;34m\u001b[0m\u001b[0m\n",
      "\u001b[0;32m/opt/conda/lib/python3.7/site-packages/cs103/typecheck/typecheck.py\u001b[0m in \u001b[0;36mwrapper\u001b[0;34m(*args)\u001b[0m\n\u001b[1;32m    133\u001b[0m                 \u001b[0;32mraise\u001b[0m \u001b[0mTypeError\u001b[0m\u001b[0;34m(\u001b[0m\u001b[0;34m\"The function \\x1b[34m%s\\x1b[0m is missing a type for the parameter %s.\"\u001b[0m \u001b[0;34m%\u001b[0m \u001b[0;34m(\u001b[0m\u001b[0mfn\u001b[0m\u001b[0;34m.\u001b[0m\u001b[0m__name__\u001b[0m\u001b[0;34m,\u001b[0m \u001b[0mname\u001b[0m\u001b[0;34m)\u001b[0m\u001b[0;34m)\u001b[0m\u001b[0;34m\u001b[0m\u001b[0;34m\u001b[0m\u001b[0m\n\u001b[1;32m    134\u001b[0m \u001b[0;34m\u001b[0m\u001b[0m\n\u001b[0;32m--> 135\u001b[0;31m         \u001b[0mretval\u001b[0m \u001b[0;34m=\u001b[0m \u001b[0mfn\u001b[0m\u001b[0;34m(\u001b[0m\u001b[0;34m*\u001b[0m\u001b[0margs\u001b[0m\u001b[0;34m)\u001b[0m\u001b[0;34m\u001b[0m\u001b[0;34m\u001b[0m\u001b[0m\n\u001b[0m\u001b[1;32m    136\u001b[0m         \u001b[0;32mif\u001b[0m \u001b[0;34m'return'\u001b[0m \u001b[0;32min\u001b[0m \u001b[0mtypes\u001b[0m\u001b[0;34m:\u001b[0m\u001b[0;34m\u001b[0m\u001b[0;34m\u001b[0m\u001b[0m\n\u001b[1;32m    137\u001b[0m             \u001b[0msubtype\u001b[0m\u001b[0;34m(\u001b[0m\u001b[0;34m\"the returned value\"\u001b[0m\u001b[0;34m,\u001b[0m \u001b[0mretval\u001b[0m\u001b[0;34m,\u001b[0m \u001b[0mtypes\u001b[0m\u001b[0;34m[\u001b[0m\u001b[0;34m'return'\u001b[0m\u001b[0;34m]\u001b[0m\u001b[0;34m,\u001b[0m \u001b[0mfn\u001b[0m\u001b[0;34m,\u001b[0m \u001b[0;32mTrue\u001b[0m\u001b[0;34m)\u001b[0m\u001b[0;34m\u001b[0m\u001b[0;34m\u001b[0m\u001b[0m\n",
      "\u001b[0;32m<ipython-input-18-da10b7d261f8>\u001b[0m in \u001b[0;36mcan_play\u001b[0;34m(age, game)\u001b[0m\n\u001b[1;32m      9\u001b[0m     \u001b[0;31m#return True #stub\u001b[0m\u001b[0;34m\u001b[0m\u001b[0;34m\u001b[0m\u001b[0;34m\u001b[0m\u001b[0m\n\u001b[1;32m     10\u001b[0m     \u001b[0;31m# template copied from Game with additional parameter (age)\u001b[0m\u001b[0;34m\u001b[0m\u001b[0;34m\u001b[0m\u001b[0;34m\u001b[0m\u001b[0m\n\u001b[0;32m---> 11\u001b[0;31m     \u001b[0;32mreturn\u001b[0m \u001b[0mage\u001b[0m \u001b[0;34m>=\u001b[0m \u001b[0mGame\u001b[0m\u001b[0;34m.\u001b[0m\u001b[0mmin_age\u001b[0m \u001b[0;34m-\u001b[0m \u001b[0;36m5\u001b[0m\u001b[0;34m\u001b[0m\u001b[0;34m\u001b[0m\u001b[0m\n\u001b[0m\u001b[1;32m     12\u001b[0m \u001b[0;34m\u001b[0m\u001b[0m\n\u001b[1;32m     13\u001b[0m \u001b[0;34m\u001b[0m\u001b[0m\n",
      "\u001b[0;31mTypeError\u001b[0m: unsupported operand type(s) for -: 'property' and 'int'"
     ]
    }
   ],
   "source": [
    "# Solution here\n",
    "\n",
    "@typecheck\n",
    "def can_play(age: int, game: Game) -> bool:\n",
    "    \"\"\"\n",
    "    return True if a child of the given age can play game, assuming that they\n",
    "    can play a game if they're at least 5 years younger than the minimum age.\n",
    "    \"\"\"\n",
    "    #return True #stub\n",
    "    # template copied from Game with additional parameter (age)\n",
    "    return age >= game.min_age - 5\n",
    "\n",
    "\n",
    "start_testing()\n",
    "\n",
    "expect(can_play(9, G_GLOOMHAVEN), 9 >= 14 - 5)  # min rec'd age is 14\n",
    "\n",
    "expect(can_play(3, G_GLOOMHAVEN), 3 >= 14 - 5)  # min rec'd age is 14\n",
    "\n",
    "expect(can_play(10, Game('teen years', 'disgruntled', 10, 100, 16)), False)\n",
    "\n",
    "summary()"
   ]
  },
  {
   "cell_type": "markdown",
   "metadata": {},
   "source": [
    "### Books\n",
    "\n",
    "**Problem:** You're designing software for a bibliography system.\n",
    "\n",
    "Design a data definition for a book. Your users need to record title, author, year of publication, and number of pages."
   ]
  },
  {
   "cell_type": "code",
   "execution_count": null,
   "metadata": {},
   "outputs": [],
   "source": [
    "# Complete this data definition.\n",
    "from typing import NamedTuple\n",
    "\n",
    "Book = NamedTuple('Book', [...])\n",
    "# interp. A data definition to represent a book with a title, an author,\n",
    "# a year of publication, and the number of pages\n",
    "\n",
    "B1 = Book(\"Harry Potter\", \"J.K. Rowling\", 1999, 223)\n",
    "B2 = Book(\"The Art of War\", \"Sun Tzu\", 2010, 52)\n",
    "B3 = Book(\"Big Fish Little Fish\", \"Jonathan Litton\", 2016, 16)\n",
    "\n",
    "# Template based on compound (4 fields)\n",
    "def fn_for_book(b: Book) -> ...:\n",
    "    # TODO"
   ]
  },
  {
   "cell_type": "markdown",
   "metadata": {},
   "source": [
    "**Problem:** Design a function to determine whether a book is good to read aloud to a 4 year old, assuming 4 year olds only like books published in the last 3 years (you may assume it's 2019!) of less than 20 pages."
   ]
  },
  {
   "cell_type": "code",
   "execution_count": null,
   "metadata": {},
   "outputs": [],
   "source": [
    "# Complete the function design.\n",
    "\n",
    "@typecheck\n",
    "def should_read_aloud(b: Book) -> bool:\n",
    "    \"\"\"\n",
    "    Returns True when you should read this book aloud to a 4 year old\n",
    "    (i.e., the book has been published in the last 3 years (assuming it's 2019!)\n",
    "    and is less than 20 pages); False otherwise.\n",
    "    \"\"\"\n",
    "    return True #stub\n",
    "\n",
    "start_testing()\n",
    "expect(should_read_aloud(B1), False)\n",
    "expect(should_read_aloud(B2), False)\n",
    "expect(should_read_aloud(B3), True)\n",
    "summary()"
   ]
  }
 ],
 "metadata": {
  "kernelspec": {
   "display_name": "Python 3",
   "language": "python",
   "name": "python3"
  },
  "language_info": {
   "codemirror_mode": {
    "name": "ipython",
    "version": 3
   },
   "file_extension": ".py",
   "mimetype": "text/x-python",
   "name": "python",
   "nbconvert_exporter": "python",
   "pygments_lexer": "ipython3",
   "version": "3.7.3"
  }
 },
 "nbformat": 4,
 "nbformat_minor": 2
}
