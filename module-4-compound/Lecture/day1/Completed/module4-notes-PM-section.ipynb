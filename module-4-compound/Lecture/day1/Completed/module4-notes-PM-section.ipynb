{
 "cells": [
  {
   "cell_type": "code",
   "execution_count": 1,
   "metadata": {},
   "outputs": [],
   "source": [
    "from cs103 import *"
   ]
  },
  {
   "cell_type": "markdown",
   "metadata": {},
   "source": [
    "## Module 4: Information Composed of Many Pieces and Compound Data "
   ]
  },
  {
   "cell_type": "markdown",
   "metadata": {},
   "source": [
    "### Artist: Compound or Enumeration?\n",
    "\n",
    "Our artist question asks you to represent \"an artist's family name,\n",
    "given name, birthplace, and art form (e.g., oil painting, sculpture,\n",
    "dance)\".\n",
    "\n",
    "What does one value of this type look like? Let's use [Georgia O'Keeffe](https://en.wikipedia.org/wiki/Georgia_O'Keeffe)\n",
    "(the painter, born in Wisconsin) as our example. We'll try solving the\n",
    "problem first with a compound and then with an enumeration and then\n",
    "try to represent O'Keeffe."
   ]
  },
  {
   "cell_type": "code",
   "execution_count": 2,
   "metadata": {},
   "outputs": [
    {
     "data": {
      "text/plain": [
       "'Wisconsin'"
      ]
     },
     "execution_count": 2,
     "metadata": {},
     "output_type": "execute_result"
    }
   ],
   "source": [
    "# Version 1: compound\n",
    "from typing import NamedTuple\n",
    "\n",
    "Artist = NamedTuple('Artist', [('family_name', str), \n",
    "                               ('given_name', str), \n",
    "                               ('birthplace', str), \n",
    "                               ('art_form', str)])\n",
    "# interp. an artist with their family name, given name, place of birth,\n",
    "#         and the art form they were best known for.\n",
    "A_MONET = Artist('Monet', 'Claude', 'Paris', 'pastels')\n",
    "A_NAOMI = Artist('Wolfman', 'Naomi', 'Vancouver', 'line drawings')\n",
    "\n",
    "@typecheck\n",
    "# template based on compound (4 fields)\n",
    "def fn_for_artist(a: Artist) -> ...:\n",
    "    return ...(a.family_name,\n",
    "               a.given_name,\n",
    "               a.birthplace,\n",
    "               a.art_form)\n",
    "\n",
    "georgia = Artist(\"O'Keeffe\", 'Georgia', 'Wisconsin', 'oil paintings')\n",
    "\n",
    "georgia.birthplace"
   ]
  },
  {
   "cell_type": "code",
   "execution_count": 3,
   "metadata": {},
   "outputs": [],
   "source": [
    "# Version 2: enumeration\n",
    "from enum import Enum\n",
    "\n",
    "Artist = Enum('Artist', ['family_name', 'given_name', 'birthplace', 'art_form'])\n",
    "# interp. an aspect of an artist, one of their family name, their given name\n",
    "# their birthplace, or their art form.\n",
    "# Examples are redundant for enumerations.\n",
    "\n",
    "\n",
    "# template based on enumeration (4 cases)\n",
    "@typecheck\n",
    "def fn_for_artist(a: Artist) -> ...:\n",
    "    if a == Artist.family_name:\n",
    "        return ...\n",
    "    elif a == Artist.given_name:\n",
    "        return ...\n",
    "    elif a == Artist.birthplace:\n",
    "        return ...\n",
    "    elif a == Artist.art_form:\n",
    "        return ...\n",
    "\n",
    "georgia = ...  # cannot construct the kind of values we need!"
   ]
  },
  {
   "cell_type": "code",
   "execution_count": 4,
   "metadata": {},
   "outputs": [],
   "source": [
    "# \"Bonus\" Version 3: simple atomic\n",
    "\n",
    "Artist = str\n",
    "# interp. an artist with their family name then given name followed by \"born in\"\n",
    "# and their birthplace and \"known for\" and their art form.\n",
    "A_MONET = 'Monet Claude born in Paris known for pastels'\n",
    "A_NAOMI = 'Wolfman Naomi born in Vancouver known for line drawings'\n",
    "\n",
    "@typecheck\n",
    "# template based on atomic non-distinct\n",
    "def fn_for_artist(a: Artist) -> ...:\n",
    "    return ...(a)\n",
    "\n",
    "\n",
    "georgia = \"O'Keeffe Georgia born in Wisconsin known for paintings\"\n",
    "\n",
    "# That has all the information we want to represent inside, but does it\n",
    "# really fit our intended structure for the information? Imagine you\n",
    "# simply wanted to design a function to return where a given artist was\n",
    "# born. How difficult will that be to design? How much help does the\n",
    "# data definition give you in that task?"
   ]
  },
  {
   "cell_type": "markdown",
   "metadata": {},
   "source": [
    "### Games\n",
    "\n",
    "**Problem:** You're designing software for [boardgamegeek.com](https://boardgamegeek.com/). Design a data\n",
    "definition for a game. Your users need to record the name of the game,\n",
    "the name of the designer, the number of players, and the\n",
    "recommended minimum age to play.\n",
    "\n",
    "*Question* What should we do if the number of players is something like \"a game for 3 to 5 players\"?"
   ]
  },
  {
   "cell_type": "code",
   "execution_count": 5,
   "metadata": {},
   "outputs": [],
   "source": [
    "# Solution here\n",
    "\n",
    "from typing import NamedTuple\n",
    "\n",
    "Game = NamedTuple('Game', [('name', str),\n",
    "                           ('designer', str),\n",
    "                           ('min_num_players', int),  # in range[1,...]\n",
    "                           ('max_num_players', int),  # in range[min_num_players,...]\n",
    "                           ('min_age', int)])     # in range[0,...]\n",
    "# interp. a board game with its name, its designer's name, the number\n",
    "# of players as a minimum (min_num_players) up to a maximum (max_num_players),\n",
    "# and the recommended minimum age to play (min_age).\n",
    "G_GLOOMHAVEN = Game('Gloomhaven', 'Isaac Childres', 1, 4, 14)\n",
    "G_BBMM = Game('Bunny Bunny Moose Moose', 'Vlaada Chvatil', 3, 7, 5)\n",
    "\n",
    "# template based on compound (5 fields)\n",
    "@typecheck\n",
    "def fn_for_game(g: Game) -> ...:\n",
    "    return ...(g.name,\n",
    "               g.designer,\n",
    "               g.min_num_players,\n",
    "               g.max_num_players,\n",
    "               g.min_age)\n"
   ]
  },
  {
   "cell_type": "markdown",
   "metadata": {},
   "source": [
    "**Problem:** Design a function to determine if a child can play the board game, assuming that they can play it if they're at least 5 years younger than the minimum age."
   ]
  },
  {
   "cell_type": "code",
   "execution_count": 6,
   "metadata": {},
   "outputs": [
    {
     "name": "stdout",
     "output_type": "stream",
     "text": [
      "\u001b[92m3 of 3 tests passed\u001b[0m\n"
     ]
    }
   ],
   "source": [
    "# Solution here\n",
    "\n",
    "@typecheck\n",
    "def can_play(age: int, game: Game) -> bool:\n",
    "    \"\"\"\n",
    "    return True if a child of the given age can play game, assuming that they\n",
    "    can play a game if they're at least 5 years younger than the minimum age.\n",
    "    \n",
    "    Assumes age is not negative.\n",
    "    \"\"\"\n",
    "    #return True #stub\n",
    "    # template copied from Game with additional parameter (age)\n",
    "    assert age >= 0  # just to demonstrate asserts\n",
    "    return age >= game.min_age - 5\n",
    "\n",
    "\n",
    "start_testing()\n",
    "\n",
    "expect(can_play(9, G_GLOOMHAVEN), 9 >= 14 - 5)  # min rec'd age is 14\n",
    "\n",
    "expect(can_play(3, G_GLOOMHAVEN), 3 >= 14 - 5)  # min rec'd age is 14\n",
    "\n",
    "expect(can_play(10, Game('teen years', 'disgruntled', 10, 100, 16)), False)\n",
    "\n",
    "summary()\n",
    "\n"
   ]
  },
  {
   "cell_type": "markdown",
   "metadata": {},
   "source": [
    "### Books\n",
    "\n",
    "**Problem:** You're designing software for a bibliography system.\n",
    "\n",
    "Design a data definition for a book. Your users need to record title, author, year of publication, and number of pages."
   ]
  },
  {
   "cell_type": "code",
   "execution_count": 7,
   "metadata": {},
   "outputs": [],
   "source": [
    "# Complete this data definition.\n",
    "from typing import NamedTuple\n",
    "\n",
    "Book = NamedTuple('Book', [('title', str), \n",
    "                           ('author', str), \n",
    "                           ('yr_pub', int), #[1, ...]\n",
    "                           ('num_pg', int)])  #[1, ...]\n",
    "# interp. A data definition to represent a book with a title, an author,\n",
    "# a year of publication (yr_pub), and the number of pages (num_pg)\n",
    "\n",
    "B1 = Book(\"Harry Potter\", \"J.K. Rowling\", 1999, 223)\n",
    "B2 = Book(\"The Art of War\", \"Sun Tzu\", 2010, 52)\n",
    "B3 = Book(\"Big Fish Little Fish\", \"Jonathan Litton\", 2016, 16)\n",
    "\n",
    "# Template based on compound (4 fields)\n",
    "@typecheck\n",
    "def fn_for_book(b: Book) -> ...:\n",
    "    return ... (b.title, b.author, b.yr_pub, b.num_pg)"
   ]
  },
  {
   "cell_type": "markdown",
   "metadata": {},
   "source": [
    "**Problem:** Design a function to determine whether a book is good to read aloud to a 4 year old, assuming 4 year olds only like books published in the last 3 years (you may assume it's 2019!) of less than 20 pages."
   ]
  },
  {
   "cell_type": "code",
   "execution_count": 8,
   "metadata": {},
   "outputs": [
    {
     "name": "stdout",
     "output_type": "stream",
     "text": [
      "\u001b[92m6 of 6 tests passed\u001b[0m\n"
     ]
    }
   ],
   "source": [
    "# Complete the function design.\n",
    "\n",
    "@typecheck\n",
    "def should_read_aloud(b: Book) -> bool:\n",
    "    \"\"\"\n",
    "    Returns True when you should read this book aloud to a 4 year old\n",
    "    (i.e., the book has been published since 2016\n",
    "    and is less than 20 pages); False otherwise.\n",
    "    \"\"\"\n",
    "    #return True #stub\n",
    "    #template copied from Book\n",
    "    \n",
    "    # Alternate version\n",
    "#     if b.yr_pub >= 2016:\n",
    "#         if b.num_pg < 20:\n",
    "#             return True\n",
    "#         else:\n",
    "#             return False\n",
    "#     else:\n",
    "#         return False\n",
    "    return b.yr_pub >= 2016 and b.num_pg < 20\n",
    "    \n",
    "    \n",
    "B4 = Book(\"Turtles All The Way Down\", \"Wolfman et al\", 2017, 82)\n",
    "B5 = Book(\"A short book\", \"Sun Tzu\", 9, 3)\n",
    "\n",
    "\n",
    "\n",
    "\n",
    "start_testing()\n",
    "expect(should_read_aloud(Book(\"Harry Potter\", \"J.K. Rowling\", 1999, 223)), False)\n",
    "expect(should_read_aloud(B2), False)\n",
    "expect(should_read_aloud(B3), True)\n",
    "expect(should_read_aloud(B4), False)\n",
    "expect(should_read_aloud(B5), False)\n",
    "expect(should_read_aloud(Book(\"A short-ish book\", \"Sun Tzu\", 9, 20)), False)\n",
    "\n",
    "summary()"
   ]
  }
 ],
 "metadata": {
  "kernelspec": {
   "display_name": "Python 3",
   "language": "python",
   "name": "python3"
  },
  "language_info": {
   "codemirror_mode": {
    "name": "ipython",
    "version": 3
   },
   "file_extension": ".py",
   "mimetype": "text/x-python",
   "name": "python",
   "nbconvert_exporter": "python",
   "pygments_lexer": "ipython3",
   "version": "3.7.3"
  }
 },
 "nbformat": 4,
 "nbformat_minor": 2
}
