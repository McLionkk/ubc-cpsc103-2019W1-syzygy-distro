{
 "cells": [
  {
   "cell_type": "code",
   "execution_count": null,
   "metadata": {
    "collapsed": true
   },
   "outputs": [],
   "source": [
    "from cs103 import *\n",
    "from typing import Optional\n",
    "\n",
    "MiddleName = Optional[str]\n",
    "# interp. a person's middle name, None means that they do not have a middle name\n",
    "\n",
    "MN1 = None\n",
    "MN2 = \"James\"\n",
    "MN3 = \"Stacy\"\n",
    "\n",
    "@typecheck\n",
    "def fn_for_middle_name(midname: MiddleName) -> ...: # template based on One Of, Atomic Distinct, and Atomic Non-Distinct\n",
    "    if midname is None:\n",
    "        return ...\n",
    "    else:\n",
    "        return ...(midname)"
   ]
  }
 ],
 "metadata": {
  "kernelspec": {
   "display_name": "Python 3",
   "language": "python",
   "name": "python3"
  },
  "language_info": {
   "codemirror_mode": {
    "name": "ipython",
    "version": 3
   },
   "file_extension": ".py",
   "mimetype": "text/x-python",
   "name": "python",
   "nbconvert_exporter": "python",
   "pygments_lexer": "ipython3",
   "version": "3.6.6"
  }
 },
 "nbformat": 4,
 "nbformat_minor": 2
}
