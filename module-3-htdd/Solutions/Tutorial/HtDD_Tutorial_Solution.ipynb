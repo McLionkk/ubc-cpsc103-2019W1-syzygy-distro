{
 "cells": [
  {
   "cell_type": "code",
   "execution_count": 1,
   "metadata": {},
   "outputs": [],
   "source": [
    "from cs103 import *\n",
    "from enum import Enum"
   ]
  },
  {
   "cell_type": "markdown",
   "metadata": {},
   "source": [
    "## Tutorial Solution - HtDD\n",
    "\n",
    "### Pre-Tutorial Work:\n",
    "\n",
    "- Write the data type definition for Problems 1a and 2. This work will not be graded but is highly recommended as preparation for your tutorial."
   ]
  },
  {
   "cell_type": "markdown",
   "metadata": {},
   "source": [
    "### Problem 1a:\n",
    "\n",
    "Design a data definition to represent a rating that a customer could give a business. The rating can be terrible, poor, fair, good, or excellent.\n",
    "\n",
    "Be sure to follow all steps of the HtDD recipe."
   ]
  },
  {
   "cell_type": "code",
   "execution_count": 2,
   "metadata": {},
   "outputs": [],
   "source": [
    "Rating = Enum('Rating', ['terrible', 'poor', 'fair', 'good', 'excellent'])\n",
    "# interp. a customer rating of a business\n",
    "# examples are redundant for enumerations\n",
    "\n",
    "# template based on enumeration (5 cases) and atomic distinct (5 times)\n",
    "@typecheck\n",
    "def fn_for_rating(r: Rating) -> ...:\n",
    "    if r == Rating.terrible:\n",
    "        return ...\n",
    "    elif r == Rating.poor:\n",
    "        return ...\n",
    "    elif r == Rating.fair:\n",
    "        return ...\n",
    "    elif r == Rating.good:\n",
    "        return ...\n",
    "    elif r == Rating.excellent:\n",
    "        return ..."
   ]
  },
  {
   "cell_type": "markdown",
   "metadata": {},
   "source": [
    "### Problem 1b:\n",
    "\n",
    "Design a function that takes a rating (from Problem 1) and returns true if the rating is positive.\n",
    "\n",
    "Be sure to follow all steps of the HtDF recipe."
   ]
  },
  {
   "cell_type": "code",
   "execution_count": 3,
   "metadata": {},
   "outputs": [
    {
     "name": "stdout",
     "output_type": "stream",
     "text": [
      "\u001b[92m5 of 5 tests passed\u001b[0m\n"
     ]
    }
   ],
   "source": [
    "@typecheck\n",
    "def is_positive(r: Rating) -> bool:\n",
    "    \"\"\"\n",
    "    returns true if r is a positive rating (i.e., better than fair) and false otherwise\n",
    "    \"\"\"\n",
    "    #return False #stub\n",
    "    # template from Rating\n",
    "    if r == Rating.terrible:\n",
    "        return False\n",
    "    elif r == Rating.poor:\n",
    "        return False\n",
    "    elif r == Rating.fair:\n",
    "        return False\n",
    "    elif r == Rating.good:\n",
    "        return True\n",
    "    elif r == Rating.excellent:\n",
    "        return True\n",
    "\n",
    "start_testing()\n",
    "\n",
    "expect(is_positive(Rating.terrible), False)\n",
    "expect(is_positive(Rating.poor), False)\n",
    "expect(is_positive(Rating.fair), False)\n",
    "expect(is_positive(Rating.good), True)\n",
    "expect(is_positive(Rating.excellent), True)\n",
    "\n",
    "summary()"
   ]
  },
  {
   "cell_type": "markdown",
   "metadata": {},
   "source": [
    "### Problem 2:\n",
    "\n",
    "Design a data definition to represent the name of a pet.\n",
    "\n",
    "Be sure to follow all steps of the HtDD recipe. "
   ]
  },
  {
   "cell_type": "code",
   "execution_count": 4,
   "metadata": {},
   "outputs": [],
   "source": [
    "PetName = str\n",
    "# interp. the name of a pet\n",
    "\n",
    "P1 = 'Rex'\n",
    "P2 = 'Ginger'\n",
    "P3 = 'Sandy'\n",
    "\n",
    "# template based on atomic non-distinct\n",
    "@typecheck\n",
    "def fn_for_pet_name(pn: PetName) -> ...:\n",
    "    return ...(pn)"
   ]
  }
 ],
 "metadata": {
  "kernelspec": {
   "display_name": "Python 3",
   "language": "python",
   "name": "python3"
  },
  "language_info": {
   "codemirror_mode": {
    "name": "ipython",
    "version": 3
   },
   "file_extension": ".py",
   "mimetype": "text/x-python",
   "name": "python",
   "nbconvert_exporter": "python",
   "pygments_lexer": "ipython3",
   "version": "3.7.3"
  }
 },
 "nbformat": 4,
 "nbformat_minor": 1
}
